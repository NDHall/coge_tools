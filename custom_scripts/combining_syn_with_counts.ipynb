{
 "cells": [
  {
   "cell_type": "markdown",
   "metadata": {
    "collapsed": true
   },
   "source": [
    "Some basic work to combine synteny calls."
   ]
  },
  {
   "cell_type": "code",
   "execution_count": 3,
   "metadata": {},
   "outputs": [],
   "source": [
    "import networkx as nx\n"
   ]
  },
  {
   "cell_type": "code",
   "execution_count": 4,
   "metadata": {},
   "outputs": [],
   "source": [
    "f = open( '/home/ndh0004/Documents/cor_exp/SS7/raw_links_awk_parsed_dc.links')\n",
    "rlinks = f.read().rstrip('\\n').split('\\n')\n",
    "f.close()"
   ]
  },
  {
   "cell_type": "code",
   "execution_count": 5,
   "metadata": {},
   "outputs": [],
   "source": [
    "synGraph = nx.Graph()\n"
   ]
  },
  {
   "cell_type": "markdown",
   "metadata": {},
   "source": [
    "Now let's make a set of unique connections"
   ]
  },
  {
   "cell_type": "code",
   "execution_count": 6,
   "metadata": {},
   "outputs": [
    {
     "name": "stdout",
     "output_type": "stream",
     "text": [
      "1568\n"
     ]
    }
   ],
   "source": [
    "counter = 0\n",
    "for line in rlinks :\n",
    "    per_id, \\\n",
    "    a_gene, \\\n",
    "    b_gene, \\\n",
    "    a_con, \\\n",
    "    a_start, \\\n",
    "    a_stop, \\\n",
    "    b_con, \\\n",
    "    b_start, \\\n",
    "    b_stop = line.split(\" \")\n",
    "    target_contigs = ['Super-Scaffold_7', 'Super-Scaffold_27',\n",
    "        'Super-Scaffold_453','Super-Scaffold_70']\n",
    "    if a_con in target_contigs and b_con in target_contigs:\n",
    "        if synGraph.has_edge(a_gene,b_gene) is False :\n",
    "            synGraph.add_edge(a_gene,b_gene)\n",
    "            synGraph.add_edge(b_gene,a_gene)\n",
    "            synGraph.node[a_gene]['contig'] = a_con\n",
    "            synGraph.node[a_gene]['start'] = a_start\n",
    "            synGraph.node[b_gene]['contig'] = b_con\n",
    "            synGraph.node[b_gene]['start'] = b_start\n",
    "            counter +=1 \n",
    "print(counter)"
   ]
  },
  {
   "cell_type": "markdown",
   "metadata": {},
   "source": [
    "Now that we have a graph connecting all these components. Let's add values to the nodes. For counts."
   ]
  },
  {
   "cell_type": "code",
   "execution_count": 7,
   "metadata": {},
   "outputs": [],
   "source": [
    "import pandas as pd\n"
   ]
  },
  {
   "cell_type": "code",
   "execution_count": 8,
   "metadata": {},
   "outputs": [],
   "source": [
    "df = pd.read_csv('/home/ndh0004/Documents/cor_exp/raw_total_counts/gene.counts'\n",
    "                 , sep=' ')\n"
   ]
  },
  {
   "cell_type": "code",
   "execution_count": 9,
   "metadata": {},
   "outputs": [
    {
     "name": "stdout",
     "output_type": "stream",
     "text": [
      "1686 counts added to nodes\n"
     ]
    }
   ],
   "source": [
    "\n",
    "counter = 0 \n",
    "for index, row in df.iterrows():\n",
    "    node_q = row['gene']+'-mRNA-1'\n",
    "    count_sum = sum(row[2:]) \n",
    "    count_max = max(row[2:])\n",
    "    count_zeros = list(row[2:]).count(0)\n",
    "    total_samples = len(row[2:])\n",
    "    if synGraph.has_node(node_q):\n",
    "        synGraph.node[node_q]['sum'] = count_sum\n",
    "        synGraph.node[node_q]['max'] = count_max\n",
    "        synGraph.node[node_q]['zeros'] = count_zeros\n",
    "        synGraph.node[node_q]['total_num_counts'] = total_samples\n",
    "        counter += 1\n",
    "print('{c} counts added to nodes'.format(c=counter))"
   ]
  },
  {
   "cell_type": "markdown",
   "metadata": {},
   "source": [
    "Counts have been added to the network. Now it's time to output the results\n"
   ]
  },
  {
   "cell_type": "code",
   "execution_count": 10,
   "metadata": {},
   "outputs": [
    {
     "name": "stdout",
     "output_type": "stream",
     "text": [
      "Counter({3: 479, 2: 116, 4: 3, 5: 1})\n"
     ]
    }
   ],
   "source": [
    "from collections import Counter\n",
    "lengthList= []\n",
    "for miniGraph in nx.connected_components(synGraph):\n",
    "    lengthList.append(len(miniGraph))\n",
    "summary = Counter(lengthList)\n",
    "print(summary)"
   ]
  },
  {
   "cell_type": "code",
   "execution_count": 18,
   "metadata": {},
   "outputs": [
    {
     "name": "stdout",
     "output_type": "stream",
     "text": [
      "479 0\n"
     ]
    }
   ],
   "source": [
    "passed = 0\n",
    "failed = 0\n",
    "fout = open('/home/ndh0004/Documents/cor_exp/SS7/linked_exp_python/'\n",
    "            'double_linkedJan17.csv', 'w')\n",
    "fout_single = open('/home/ndh0004/Documents/cor_exp/SS7/linked_exp_python/'\n",
    "            'single_linkedJan17.csv', 'w')\n",
    "fout.write('Agene,Astart,Asum,Acontig,Amax,Azeros,Atotal_num_counts,')\n",
    "fout.write('AAgene,AAstart,AAsum,AAcontig,AAmax,AAzeros,AAtotal_num_counts,')\n",
    "fout.write('Bgene,Bstart,Bsum,Bcontig,Bmax,Bzeros,Btotal_num_counts\\n')\n",
    "\n",
    "fout_single.write('Agene,Astart,Asum,Acontig,Amax,Azeros,Atotal_num_counts,')\n",
    "fout_single.write('Bgene,Bstart,Bsum,Bcontig,Bmax,Bzeros,Btotal_num_counts\\n')\n",
    "for miniSet in nx.connected_components(synGraph):\n",
    "    miniGraph = synGraph.subgraph(miniSet)\n",
    "    nodes = miniGraph.nodes()\n",
    "    ss7 = []\n",
    "    ssO = []\n",
    "    if len(miniSet) == 3 or len(miniSet) == 2  :\n",
    "       for node in nodes :\n",
    "           to_append = [node,\n",
    "                        str(miniGraph.node[node]['start']),\n",
    "                        str(miniGraph.node[node]['sum']),\n",
    "                        str(miniGraph.node[node]['contig']),\n",
    "                        str(miniGraph.node[node]['max']),\n",
    "                        str(miniGraph.node[node]['zeros']),\n",
    "                        str(miniGraph.node[node]['total_num_counts']) \n",
    "                        ]\n",
    "           if miniGraph.node[node]['contig'] == 'Super-Scaffold_7' :\n",
    "               ss7.append(to_append)\n",
    "           else:\n",
    "               ssO.append(to_append)\n",
    "       if len(ss7)==2 and len(ssO)==1:\n",
    "           passed +=1 \n",
    "           fout.write(','.join(ss7[0])+',')\n",
    "           fout.write(','.join(ss7[1])+',')\n",
    "           fout.write(','.join(ssO[0])+'\\n')\n",
    "           fout.write(','.join(ss7[1])+',')\n",
    "           fout.write(','.join(ss7[0])+',')\n",
    "           fout.write(','.join(ssO[0])+'\\n')\n",
    "       elif len(ss7) == 1 and len(ssO) ==1 :\n",
    "           fout_single.write(','.join(ss7[0])+',')\n",
    "           fout_single.write(','.join(ssO[0])+'\\n')\n",
    "       elif len(ss7) == 2 and len(ssO) ==0 :\n",
    "           fout_single.write(','.join(ss7[0])+',')\n",
    "           fout_single.write(','.join(ss7[1])+'\\n')\n",
    "           \n",
    "           \n",
    "       else:\n",
    "           failed += 1 \n",
    "\n",
    "fout.close() \n",
    "print(passed, failed)\n",
    "               \n",
    "               \n",
    "        "
   ]
  },
  {
   "cell_type": "code",
   "execution_count": null,
   "metadata": {},
   "outputs": [],
   "source": []
  }
 ],
 "metadata": {
  "kernelspec": {
   "display_name": "Python 2",
   "language": "python",
   "name": "python2"
  },
  "language_info": {
   "codemirror_mode": {
    "name": "ipython",
    "version": 2
   },
   "file_extension": ".py",
   "mimetype": "text/x-python",
   "name": "python",
   "nbconvert_exporter": "python",
   "pygments_lexer": "ipython2",
   "version": "2.7.6"
  }
 },
 "nbformat": 4,
 "nbformat_minor": 0
}
