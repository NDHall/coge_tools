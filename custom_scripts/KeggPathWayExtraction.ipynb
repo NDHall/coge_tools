{
 "cells": [
  {
   "cell_type": "markdown",
   "metadata": {
    "collapsed": true
   },
   "source": [
    "# Linking Counts to Kegg"
   ]
  },
  {
   "cell_type": "markdown",
   "metadata": {},
   "source": [
    "* Begin with test case\n"
   ]
  },
  {
   "cell_type": "code",
   "execution_count": null,
   "metadata": {},
   "outputs": [],
   "source": [
    "rctc_1_h = '/home/ndh0004/Documents/keggPthCor/counts/BGI_SRR5341138_accepted_hits.counts'\n",
    "rctc_1_o = open(rctc_1_h)\n",
    "rctc_1 = rctc_1_o.read().rstrip('\\n').split('\\n')\n"
   ]
  },
  {
   "cell_type": "code",
   "execution_count": 2,
   "metadata": {},
   "outputs": [],
   "source": [
    "import pickle\n",
    "f = open('/home/ndh0004/Documents/keggPthCor/gene_dict.pckl','rb')\n",
    "ab_dict = pickle.load(f)\n",
    "f.close()\n",
    "    "
   ]
  },
  {
   "cell_type": "code",
   "execution_count": 3,
   "metadata": {},
   "outputs": [
    {
     "name": "stdout",
     "output_type": "stream",
     "text": [
      "PR202_augustus_masked-Super-Scaffold_10-processed-gene-0.444 116 b xo XP_004965949.2 sita:101764737 None\nPR202_augustus_masked-Super-Scaffold_10-processed-gene-0.445 0 b xo XP_004965949.2 sita:101764737 None\nPR202_augustus_masked-Super-Scaffold_10-processed-gene-0.447 0 b xo XP_004966032.1 sita:101763790 None\nPR202_augustus_masked-Super-Scaffold_10-processed-gene-0.451 0 b xo XP_022682880.1 sita:101766674 K01537\nPR202_augustus_masked-Super-Scaffold_10-processed-gene-0.453 3 b xo XP_004967201.1 sita:101763801 None\nPR202_augustus_masked-Super-Scaffold_10-processed-gene-0.454 0 b xo XP_004966215.1 sita:101768668 K20855\n"
     ]
    }
   ],
   "source": [
    "for line in rctc_1[0:20]:\n",
    "    gene, count = line.split('\\t')\n",
    "    if gene in ab_dict:\n",
    "        print(gene, count, ' '.join(ab_dict[gene]))"
   ]
  },
  {
   "cell_type": "markdown",
   "metadata": {},
   "source": [
    "* As above we are just going to create count files with info appended to them\n",
    "* We will use these for looking at pathways.\n",
    "* But first let's make this easier with a function.\n"
   ]
  },
  {
   "cell_type": "code",
   "execution_count": 4,
   "metadata": {},
   "outputs": [],
   "source": [
    "def create_count(handle,label):\n",
    "    f = open(handle)\n",
    "    txt = f.read().rstrip('\\n').split('\\n')\n",
    "    f.close()\n",
    "    handle = handle.split('/')\n",
    "    out = handle[:-1]\n",
    "    out.append(label+ '_' + handle[-1])\n",
    "    out = '/'.join(out)\n",
    "    fout = open(out, 'w')\n",
    "    fout.write('gene\\tcount\\tcall\\tconf\\tsita\\tkSita\\tkegg\\n')\n",
    "    for line in txt:\n",
    "        gene, count = line.split('\\t')\n",
    "        if gene in ab_dict:\n",
    "            if len(ab_dict[gene]) == 5:\n",
    "                call, conf, sita, kSita,kegg = ab_dict[gene]\n",
    "                fout.write('{g}\\t{c}\\t{ca}\\t{co}\\t'\n",
    "                       '{s}\\t{si}\\t{k}\\n'.format(g=gene,\n",
    "                                                 c=count,\n",
    "                                                 ca=call,\n",
    "                                                 co=conf,\n",
    "                                                 s=sita,\n",
    "                                                 si=kSita,\n",
    "                                                 k=kegg))\n",
    "    fout.close()"
   ]
  },
  {
   "cell_type": "code",
   "execution_count": 5,
   "metadata": {},
   "outputs": [],
   "source": [
    "create_count('/home/ndh0004/Documents/'\n",
    "             'keggPthCor/counts/'\n",
    "             'BGI_SRR5341138_accepted_hits.counts',\n",
    "             'rctc_1')"
   ]
  },
  {
   "cell_type": "markdown",
   "metadata": {},
   "source": [
    "quick bash script to fill function \n",
    "$p=$( pwd) \n",
    "$tail -n +3 BGI_sample_table.csv | awk '{print \"create_count(\\x27\"p\"/\"$2\"\\x27,\\x27\"$1\"\\x27)\"}' p=$p "
   ]
  },
  {
   "cell_type": "code",
   "execution_count": 6,
   "metadata": {},
   "outputs": [],
   "source": [
    "create_count('/home/ndh0004/Documents/keggPthCor/counts/BGI_SRR5341139_accepted_hits.counts','lctc_2')\n",
    "create_count('/home/ndh0004/Documents/keggPthCor/counts/BGI_SRR5341140_accepted_hits.counts','lctc_3')\n",
    "create_count('/home/ndh0004/Documents/keggPthCor/counts/BGI_SRR5341141_accepted_hits.counts','lctc_4')\n",
    "create_count('/home/ndh0004/Documents/keggPthCor/counts/BGI_SRR5341142_accepted_hits.counts','sctc_5')\n",
    "create_count('/home/ndh0004/Documents/keggPthCor/counts/BGI_SRR5341143_accepted_hits.counts','ectc_6')\n",
    "create_count('/home/ndh0004/Documents/keggPthCor/counts/BGI_SRR5341144_accepted_hits.counts','fctc_7')\n",
    "create_count('/home/ndh0004/Documents/keggPthCor/counts/BGI_SRR5341145_accepted_hits.counts','lctc_8')\n",
    "create_count('/home/ndh0004/Documents/keggPthCor/counts/BGI_SRR5341146_accepted_hits.counts','sctc_9')\n",
    "create_count('/home/ndh0004/Documents/keggPthCor/counts/BGI_SRR5341147_accepted_hits.counts','sctc_10')\n",
    "create_count('/home/ndh0004/Documents/keggPthCor/counts/BGI_SRR5341148_accepted_hits.counts','sctc_11')"
   ]
  },
  {
   "cell_type": "markdown",
   "metadata": {},
   "source": [
    "## Agregate the data.\n",
    "* Again we will begin with a test case. "
   ]
  },
  {
   "cell_type": "code",
   "execution_count": 8,
   "metadata": {},
   "outputs": [],
   "source": [
    "oxPhos_h ='/home/ndh0004/code/' \\\n",
    "          'coge_tools/custom_scripts/ref_data/OxPhos.list'\n",
    "oxPhos_o = open(oxPhos_h)\n",
    "oxPhos = oxPhos_o.read().rstrip('\\n').split('\\n')\n",
    "oxPhos_o.close()\n"
   ]
  },
  {
   "cell_type": "code",
   "execution_count": 9,
   "metadata": {
    "collapsed": true
   },
   "outputs": [
    {
     "name": "stdout",
     "output_type": "stream",
     "text": [
      "['gene\\tcount\\tcall\\tconf\\tsita\\tkSita\\tkegg', 'PR202_augustus_masked-Super-Scaffold_10-processed-gene-0.444\\t116\\tb\\txo\\tXP_004965949.2\\tsita:101764737\\tNone']\n"
     ]
    }
   ],
   "source": [
    "rh = '/home/ndh0004/Documents/' \\\n",
    "     'keggPthCor/counts/' \\\n",
    "     'rctc_1_BGI_SRR5341138_accepted_hits.counts' \n",
    "r = open(rh)\n",
    "dat = r.read().rstrip('\\n').split('\\n')\n",
    "print(dat[0:2])\n",
    "    "
   ]
  },
  {
   "cell_type": "code",
   "execution_count": 17,
   "metadata": {},
   "outputs": [],
   "source": [
    "ko_dict = {}\n",
    "for line in dat[1::]:\n",
    "    gene,count,call,conf,sita,kSita,kegg = line.split('\\t')\n",
    "    count = int(count)\n",
    "    if kegg in oxPhos:\n",
    "        if kegg not in ko_dict:\n",
    "            ko_dict[kegg] = {\n",
    "                'call_count': {'a':0,'b':0},\n",
    "                'gene_call_conf_count' : []               \n",
    "            }\n",
    "        ko_dict[kegg]['gene_call_conf_count'].append([gene,\n",
    "                                                     call,\n",
    "                                                     conf,\n",
    "                                                     count])\n",
    "        if call not in  ko_dict[kegg]['call_count']:\n",
    "            ko_dict[kegg]['call_count'][call] = count\n",
    "        else:\n",
    "            ko_dict[kegg]['call_count'][call] += count\n",
    "\n"
   ]
  },
  {
   "cell_type": "code",
   "execution_count": 18,
   "metadata": {},
   "outputs": [
    {
     "name": "stdout",
     "output_type": "stream",
     "text": [
      "K02150 35 0\nK02148 0 88\nK02113 8 0\nK05573 0 111\nK02147 354 300\n"
     ]
    }
   ],
   "source": [
    "key_list = list(ko_dict.keys())\n",
    "for key in key_list[0:5]:\n",
    "    print(key, ko_dict[key]['call_count']['a'],\\\n",
    "          ko_dict[key]['call_count']['b'])"
   ]
  },
  {
   "cell_type": "code",
   "execution_count": 19,
   "metadata": {},
   "outputs": [
    {
     "name": "stdout",
     "output_type": "stream",
     "text": [
      "K02150 35 0\nK02148 0 88\nK02113 8 0\nK05573 0 111\nK02147 354 300\nK03939 54 0\nK03952 46 0\nK05582 0 15\nK03963 0 95\nK00413 98 136\nK02109 3 0\nK02154 358 39\nK01507 113 580\nK02112 0 0\nK00417 105 0\nK02133 1317 36\nK02266 61 0\nK00236 81 0\nK11353 0 49\nK03943 182 0\nK02137 317 171\nK03950 0 102\nK02155 0 434\nK02149 99 41\nK03937 1 0\nK00235 115 0\nK02151 125 0\nK00234 25 0\nK03661 106 0\nK00411 49 392\nK02146 0 94\nK03955 90 0\nK01535 481 1277\nK02140 0 0\nK02265 169 0\nK03942 1144 0\nK02267 0 7\nK03938 61 27\nK11352 0 58\n"
     ]
    }
   ],
   "source": [
    "for key in key_list:\n",
    "    print(key, ko_dict[key]['call_count']['a'],\\\n",
    "          ko_dict[key]['call_count']['b'])"
   ]
  },
  {
   "cell_type": "code",
   "execution_count": null,
   "metadata": {},
   "outputs": [
    {
     "name": "stdout",
     "output_type": "stream",
     "text": [
      "K02150 blue\nK02148 red\nK02113 blue\nK05573 red\nK02147 purple\nK03939 blue\nK03952 blue\nK05582 red\nK03963 red\nK00413 purple\nK02109 blue\nK02154 blue\nK01507 red\nK02112 gray\nK00417 blue\nK02133 blue\nK02266 blue\nK00236 blue\nK11353 red\nK03943 blue\nK02137 purple\nK03950 red\nK02155 red\nK02149 blue\nK03937 blue\nK00235 blue\nK02151 blue\nK00234 blue\nK03661 blue\nK00411 red\nK02146 red\nK03955 blue\nK01535 red\nK02140 gray\nK02265 blue\nK03942 blue\nK02267 red\nK03938 purple\nK11352 red\n"
     ]
    }
   ],
   "source": [
    "for key in key_list:\n",
    "    a = ko_dict[key]['call_count']['a']\n",
    "    b = ko_dict[key]['call_count']['b']\n",
    "    if a == 0 and b == 0 :\n",
    "        print(key, 'gray')\n",
    "    elif (abs(a - b)/(a + b)) < 0.40:\n",
    "        print(key,'purple')     \n",
    "    elif a > b:\n",
    "        print(key,'blue')\n",
    "    elif b > a:\n",
    "        print(key,'red')\n"
   ]
  },
  {
   "cell_type": "code",
   "execution_count": null,
   "metadata": {},
   "outputs": [],
   "source": []
  }
 ],
 "metadata": {
  "kernelspec": {
   "display_name": "Python 2",
   "language": "python",
   "name": "python2"
  },
  "language_info": {
   "codemirror_mode": {
    "name": "ipython",
    "version": 2
   },
   "file_extension": ".py",
   "mimetype": "text/x-python",
   "name": "python",
   "nbconvert_exporter": "python",
   "pygments_lexer": "ipython2",
   "version": "2.7.6"
  }
 },
 "nbformat": 4,
 "nbformat_minor": 0
}
