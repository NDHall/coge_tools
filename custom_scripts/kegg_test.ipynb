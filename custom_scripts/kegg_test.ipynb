{
 "cells": [
  {
   "cell_type": "code",
   "execution_count": 6,
   "metadata": {
    "collapsed": true
   },
   "outputs": [],
   "source": [
    "from bioservices import KEGG\n"
   ]
  },
  {
   "cell_type": "code",
   "execution_count": 7,
   "metadata": {},
   "outputs": [],
   "source": [
    "s = KEGG()\n",
    "convDb = s.conv('sita','ncbi-proteinid')"
   ]
  },
  {
   "cell_type": "code",
   "execution_count": 8,
   "metadata": {},
   "outputs": [
    {
     "data": {
      "text/plain": [
       "'sita:19526851'"
      ]
     },
     "execution_count": 8,
     "metadata": {},
     "output_type": "execute_result"
    }
   ],
   "source": [
    "convDb['ncbi-proteinid:YP_008815800']"
   ]
  },
  {
   "cell_type": "code",
   "execution_count": 9,
   "metadata": {},
   "outputs": [
    {
     "name": "stdout",
     "output_type": "stream",
     "text": [
      "ENTRY       101771791         CDS       T02818\nDEFINITION  (RefSeq) thiol protease SEN102-like\nORGANISM    sita  Setaria italica (foxtail millet)\nPOSITION    I\nMOTIF       Pfam: Peptidase_C1\nDBLINKS     NCBI-GeneID: 101771791\n            NCBI-ProteinID: XP_012699738\nAASEQ       214\n            MVKKLVALGVVLALLALLEPAAAGVKFTNEDLKSEESLWHLYERWGGCYNVTRHPSTSCA\n            AAGQAPGLNGFADLTNDEFNRYYKCNMLEAGARRTLPMRRRGDGSLPLPIYIDWRIKSCG\n            TCPCLSPVKSQGVCGSCWAFTATGAMESHYAIQGAKDNRGLVDLSEQELVDCDTHSIGCK\n            RGGWFEAVKIAFRPIFSQETLEYLLDTRDVEMEG\nNTSEQ       645\n            atggtcaagaagctcgtcgcgcttggcgtggtgctggcgttgctggcgctgctggagccg\n            gcggccgccggcgtcaagttcaccaacgaggacctcaagtccgaggagtccctgtggcac\n            ctctacgagcgatggggcgggtgctacaacgtgacgcgccacccgtcgacaagctgcgcc\n            gcagcaggccaggcgccagggctgaacggcttcgccgacctcaccaacgacgagttcaac\n            cgctactacaagtgcaacatgctggaggccggcgctcggcgcactctgcccatgaggagg\n            cgtggtgacgggtccctccctctccccatctacatcgactggcgcattaagagctgtggc\n            acatgcccgtgcctcagtccggtcaagtcccagggcgtctgcggctcctgctgggcattc\n            accgcgacgggggcgatggagagccactacgccatccaaggggccaaggacaaccggggc\n            ctggttgacctgtcggagcaggagctcgtcgactgcgacacccacagcatcggctgcaaa\n            cgtgggggttggttcgaagccgtgaaaatcgccttcagacccattttcagccaagaaacg\n            ctggagtacctcctcgacacccgtgatgttgagatggaaggataa\n///\n"
     ]
    },
    {
     "name": "stdout",
     "output_type": "stream",
     "text": [
      "\n"
     ]
    }
   ],
   "source": [
    "print(s.get('sita:101771791'))"
   ]
  },
  {
   "cell_type": "code",
   "execution_count": 10,
   "metadata": {},
   "outputs": [
    {
     "ename": "SyntaxError",
     "evalue": "invalid syntax (<ipython-input-10-efc81428cb1e>, line 1)",
     "traceback": [
      "\u001b[0;36m  File \u001b[0;32m\"<ipython-input-10-efc81428cb1e>\"\u001b[0;36m, line \u001b[0;32m1\u001b[0m\n\u001b[0;31m    gene_obj =\u001b[0m\n\u001b[0m               ^\u001b[0m\n\u001b[0;31mSyntaxError\u001b[0m\u001b[0;31m:\u001b[0m invalid syntax\n"
     ],
     "output_type": "error"
    }
   ],
   "source": [
    "gene_obj = \n"
   ]
  },
  {
   "cell_type": "code",
   "execution_count": 11,
   "metadata": {},
   "outputs": [
    {
     "ename": "NameError",
     "evalue": "name 'gene_obj' is not defined",
     "traceback": [
      "\u001b[0;31m---------------------------------------------------------------------------\u001b[0m",
      "\u001b[0;31mNameError\u001b[0m                                 Traceback (most recent call last)",
      "\u001b[0;32m<ipython-input-11-5643a0fe8a91>\u001b[0m in \u001b[0;36m<module>\u001b[0;34m()\u001b[0m\n\u001b[0;32m----> 1\u001b[0;31m \u001b[0mkeggObj\u001b[0m \u001b[0;34m=\u001b[0m \u001b[0ms\u001b[0m\u001b[0;34m.\u001b[0m\u001b[0mparse\u001b[0m\u001b[0;34m(\u001b[0m\u001b[0mgene_obj\u001b[0m\u001b[0;34m)\u001b[0m\u001b[0;34m\u001b[0m\u001b[0m\n\u001b[0m\u001b[1;32m      2\u001b[0m \u001b[0;32mfor\u001b[0m \u001b[0mkey\u001b[0m \u001b[0;32min\u001b[0m \u001b[0mkeggObj\u001b[0m\u001b[0;34m[\u001b[0m\u001b[0;34m'ORTHOLOGY'\u001b[0m\u001b[0;34m]\u001b[0m\u001b[0;34m:\u001b[0m\u001b[0;34m\u001b[0m\u001b[0m\n\u001b[1;32m      3\u001b[0m     \u001b[0mprint\u001b[0m\u001b[0;34m(\u001b[0m\u001b[0mkey\u001b[0m\u001b[0;34m)\u001b[0m\u001b[0;34m\u001b[0m\u001b[0m\n\u001b[1;32m      4\u001b[0m \u001b[0;31m#print(keggObj['ORTHOLOGY'])\u001b[0m\u001b[0;34m\u001b[0m\u001b[0;34m\u001b[0m\u001b[0m\n\u001b[1;32m      5\u001b[0m \u001b[0;31m#print(keggObj['BRITE'])\u001b[0m\u001b[0;34m\u001b[0m\u001b[0;34m\u001b[0m\u001b[0m\n",
      "\u001b[0;31mNameError\u001b[0m: name 'gene_obj' is not defined"
     ],
     "output_type": "error"
    }
   ],
   "source": [
    "keggObj = s.parse(gene_obj)\n",
    "for key in keggObj['ORTHOLOGY']:\n",
    "    print(key)\n",
    "#print(keggObj['ORTHOLOGY'])\n",
    "#print(keggObj['BRITE'])\n"
   ]
  },
  {
   "cell_type": "code",
   "execution_count": 12,
   "metadata": {},
   "outputs": [
    {
     "ename": "NameError",
     "evalue": "name 'keggObj' is not defined",
     "traceback": [
      "\u001b[0;31m---------------------------------------------------------------------------\u001b[0m",
      "\u001b[0;31mNameError\u001b[0m                                 Traceback (most recent call last)",
      "\u001b[0;32m<ipython-input-12-5efc02cbc424>\u001b[0m in \u001b[0;36m<module>\u001b[0;34m()\u001b[0m\n\u001b[0;32m----> 1\u001b[0;31m \u001b[0;32mfor\u001b[0m \u001b[0mkey\u001b[0m \u001b[0;32min\u001b[0m \u001b[0mkeggObj\u001b[0m\u001b[0;34m:\u001b[0m\u001b[0;34m\u001b[0m\u001b[0m\n\u001b[0m\u001b[1;32m      2\u001b[0m     \u001b[0mprint\u001b[0m\u001b[0;34m(\u001b[0m\u001b[0mkey\u001b[0m\u001b[0;34m)\u001b[0m\u001b[0;34m\u001b[0m\u001b[0m\n",
      "\u001b[0;31mNameError\u001b[0m: name 'keggObj' is not defined"
     ],
     "output_type": "error"
    }
   ],
   "source": [
    "for key in keggObj:\n",
    "    print(key)"
   ]
  },
  {
   "cell_type": "code",
   "execution_count": 13,
   "metadata": {},
   "outputs": [
    {
     "ename": "NameError",
     "evalue": "name 'keggObj' is not defined",
     "traceback": [
      "\u001b[0;31m---------------------------------------------------------------------------\u001b[0m",
      "\u001b[0;31mNameError\u001b[0m                                 Traceback (most recent call last)",
      "\u001b[0;32m<ipython-input-13-1e5c2beae94a>\u001b[0m in \u001b[0;36m<module>\u001b[0;34m()\u001b[0m\n\u001b[0;32m----> 1\u001b[0;31m \u001b[0mprint\u001b[0m\u001b[0;34m(\u001b[0m\u001b[0mkeggObj\u001b[0m\u001b[0;34m[\u001b[0m\u001b[0;34m'ENTRY'\u001b[0m\u001b[0;34m]\u001b[0m\u001b[0;34m)\u001b[0m\u001b[0;34m\u001b[0m\u001b[0m\n\u001b[0m",
      "\u001b[0;31mNameError\u001b[0m: name 'keggObj' is not defined"
     ],
     "output_type": "error"
    }
   ],
   "source": [
    "print(keggObj['ENTRY'])"
   ]
  },
  {
   "cell_type": "code",
   "execution_count": 14,
   "metadata": {},
   "outputs": [
    {
     "ename": "NameError",
     "evalue": "name 'keggObj' is not defined",
     "traceback": [
      "\u001b[0;31m---------------------------------------------------------------------------\u001b[0m",
      "\u001b[0;31mNameError\u001b[0m                                 Traceback (most recent call last)",
      "\u001b[0;32m<ipython-input-14-3b8de0e986b2>\u001b[0m in \u001b[0;36m<module>\u001b[0;34m()\u001b[0m\n\u001b[0;32m----> 1\u001b[0;31m \u001b[0mprint\u001b[0m\u001b[0;34m(\u001b[0m\u001b[0mkeggObj\u001b[0m\u001b[0;34m[\u001b[0m\u001b[0;34m'MODULE'\u001b[0m\u001b[0;34m]\u001b[0m\u001b[0;34m)\u001b[0m\u001b[0;34m\u001b[0m\u001b[0m\n\u001b[0m",
      "\u001b[0;31mNameError\u001b[0m: name 'keggObj' is not defined"
     ],
     "output_type": "error"
    }
   ],
   "source": [
    "print(keggObj['MODULE'])"
   ]
  },
  {
   "cell_type": "code",
   "execution_count": 15,
   "metadata": {},
   "outputs": [
    {
     "ename": "NameError",
     "evalue": "name 'keggObj' is not defined",
     "traceback": [
      "\u001b[0;31m---------------------------------------------------------------------------\u001b[0m",
      "\u001b[0;31mNameError\u001b[0m                                 Traceback (most recent call last)",
      "\u001b[0;32m<ipython-input-15-5417499072a8>\u001b[0m in \u001b[0;36m<module>\u001b[0;34m()\u001b[0m\n\u001b[0;32m----> 1\u001b[0;31m \u001b[0mprint\u001b[0m\u001b[0;34m(\u001b[0m\u001b[0mkeggObj\u001b[0m\u001b[0;34m[\u001b[0m\u001b[0;34m'NAME'\u001b[0m\u001b[0;34m]\u001b[0m\u001b[0;34m)\u001b[0m\u001b[0;34m\u001b[0m\u001b[0m\n\u001b[0m",
      "\u001b[0;31mNameError\u001b[0m: name 'keggObj' is not defined"
     ],
     "output_type": "error"
    }
   ],
   "source": [
    "print(keggObj['NAME'])"
   ]
  },
  {
   "cell_type": "code",
   "execution_count": 16,
   "metadata": {},
   "outputs": [
    {
     "ename": "NameError",
     "evalue": "name 'keggObj' is not defined",
     "traceback": [
      "\u001b[0;31m---------------------------------------------------------------------------\u001b[0m",
      "\u001b[0;31mNameError\u001b[0m                                 Traceback (most recent call last)",
      "\u001b[0;32m<ipython-input-16-1c7c983aa937>\u001b[0m in \u001b[0;36m<module>\u001b[0;34m()\u001b[0m\n\u001b[0;32m----> 1\u001b[0;31m \u001b[0mprint\u001b[0m\u001b[0;34m(\u001b[0m\u001b[0mkeggObj\u001b[0m\u001b[0;34m[\u001b[0m\u001b[0;34m'BRITE'\u001b[0m\u001b[0;34m]\u001b[0m\u001b[0;34m)\u001b[0m\u001b[0;34m\u001b[0m\u001b[0m\n\u001b[0m",
      "\u001b[0;31mNameError\u001b[0m: name 'keggObj' is not defined"
     ],
     "output_type": "error"
    }
   ],
   "source": [
    "print(keggObj['BRITE'])"
   ]
  },
  {
   "cell_type": "code",
   "execution_count": 17,
   "metadata": {},
   "outputs": [
    {
     "ename": "NameError",
     "evalue": "name 'keggObj' is not defined",
     "traceback": [
      "\u001b[0;31m---------------------------------------------------------------------------\u001b[0m",
      "\u001b[0;31mNameError\u001b[0m                                 Traceback (most recent call last)",
      "\u001b[0;32m<ipython-input-17-2452c6906558>\u001b[0m in \u001b[0;36m<module>\u001b[0;34m()\u001b[0m\n\u001b[0;32m----> 1\u001b[0;31m \u001b[0mprint\u001b[0m\u001b[0;34m(\u001b[0m\u001b[0mkeggObj\u001b[0m\u001b[0;34m[\u001b[0m\u001b[0;34m'NAME'\u001b[0m\u001b[0;34m]\u001b[0m\u001b[0;34m[\u001b[0m\u001b[0;36m0\u001b[0m\u001b[0;34m]\u001b[0m\u001b[0;34m)\u001b[0m\u001b[0;34m\u001b[0m\u001b[0m\n\u001b[0m",
      "\u001b[0;31mNameError\u001b[0m: name 'keggObj' is not defined"
     ],
     "output_type": "error"
    }
   ],
   "source": [
    "print(keggObj['NAME'][0])"
   ]
  },
  {
   "cell_type": "code",
   "execution_count": 18,
   "metadata": {},
   "outputs": [
    {
     "ename": "NameError",
     "evalue": "name 'keggObj' is not defined",
     "traceback": [
      "\u001b[0;31m---------------------------------------------------------------------------\u001b[0m",
      "\u001b[0;31mNameError\u001b[0m                                 Traceback (most recent call last)",
      "\u001b[0;32m<ipython-input-18-8e2d0735a0a6>\u001b[0m in \u001b[0;36m<module>\u001b[0;34m()\u001b[0m\n\u001b[0;32m----> 1\u001b[0;31m \u001b[0;32mfor\u001b[0m \u001b[0mkey\u001b[0m \u001b[0;32min\u001b[0m \u001b[0mkeggObj\u001b[0m\u001b[0;34m[\u001b[0m\u001b[0;34m'MODULE'\u001b[0m\u001b[0;34m]\u001b[0m\u001b[0;34m:\u001b[0m\u001b[0;34m\u001b[0m\u001b[0m\n\u001b[0m\u001b[1;32m      2\u001b[0m     \u001b[0mprint\u001b[0m\u001b[0;34m(\u001b[0m\u001b[0mkey\u001b[0m\u001b[0;34m)\u001b[0m\u001b[0;34m\u001b[0m\u001b[0m\n\u001b[1;32m      3\u001b[0m \u001b[0;34m\u001b[0m\u001b[0m\n",
      "\u001b[0;31mNameError\u001b[0m: name 'keggObj' is not defined"
     ],
     "output_type": "error"
    }
   ],
   "source": [
    "for key in keggObj['MODULE']:\n",
    "    print(key)\n",
    "   "
   ]
  },
  {
   "cell_type": "markdown",
   "metadata": {},
   "source": []
  },
  {
   "cell_type": "code",
   "execution_count": 19,
   "metadata": {},
   "outputs": [
    {
     "data": {
      "text/plain": [
       "{'sita00190': 'Oxidative phosphorylation', 'sita01100': 'Metabolic pathways'}"
      ]
     },
     "execution_count": 19,
     "metadata": {},
     "output_type": "execute_result"
    }
   ],
   "source": [
    " s.get_pathway_by_gene('19526851','sita')\n",
    "    "
   ]
  },
  {
   "cell_type": "markdown",
   "metadata": {},
   "source": []
  },
  {
   "cell_type": "code",
   "execution_count": 20,
   "metadata": {},
   "outputs": [
    {
     "name": "stdout",
     "output_type": "stream",
     "text": [
      "{'NTSEQ': '            atgatttcatctatcagcttatttggaagctctcagcagcctgctctcaagttttacgga            aaatgcttgccaaataacccacattttgcagtgacaatgcattcagttgcaaagtccatg            ggtaaagctatgattatgaagagggcacgtctgaagctacatgccacggacatcaatagg            aaaccccagacccatgaactttacaaattggtttgtagacttcctgaaaaccttagctgg            ctgttggagccaccagaaattcctaaaagaacagcctcaaagaagaagaaacagaaggat            gaaatggtgactggtcagtttggtgtgatcttggagtgggagggagttgttgtggaagat            gacgatccagacttggagccccgggtttggtatgttctatcacttgaagaggcaaagtct            ttccctccggatgcattgctgaaggaaattgagggaatgagaactgagcaggctatttca            gaagtgttatgttggtcagaagatccagaggaaattaaaaggttggcagcacgcaaggag            gtaatatatcaaatcctccgaggaggatactatcaactgcgaccaggtgtccttgatttc            ttgaatacccttgtggattttgaaattccgatagcaattgcagctccccgctcacgcaag            agccttgaagaagggattaaaactgttggtctgcaaggttactttgatgctataattgca            ttagaggatttctgcctagggaaacctgatggtgagatgtttgaggttgcagcggagcaa            cttggtcttgagccagacgtttgtgttgtgtttggtaattcaaacttgacgacagaatct            gcacatacttctgggatgtggtgtgtggcagttgcaggccgacaccctgcctatgagctg            caagcagcaaatcatgttgtgagatggcttgatcaactctctgttgttgacttgaagagg            cttgttaatggtgaggttattggtcgcaggggcagagaatctgacatggatatggaaatt            gtgattgaggaatga', 'DBLINKS': {'NCBI-ProteinID': 'XP_004976472', 'NCBI-GeneID': '101780613', 'UniProt': 'K3Y8H0'}, 'DEFINITION': '(RefSeq) 5-amino-6-(5-phospho-D-ribitylamino)uracil phosphatase, chloroplastic', 'AASEQ': '            MISSISLFGSSQQPALKFYGKCLPNNPHFAVTMHSVAKSMGKAMIMKRARLKLHATDINR            KPQTHELYKLVCRLPENLSWLLEPPEIPKRTASKKKKQKDEMVTGQFGVILEWEGVVVED            DDPDLEPRVWYVLSLEEAKSFPPDALLKEIEGMRTEQAISEVLCWSEDPEEIKRLAARKE            VIYQILRGGYYQLRPGVLDFLNTLVDFEIPIAIAAPRSRKSLEEGIKTVGLQGYFDAIIA            LEDFCLGKPDGEMFEVAAEQLGLEPDVCVVFGNSNLTTESAHTSGMWCVAVAGRHPAYEL            QAANHVVRWLDQLSVVDLKRLVNGEVIGRRGRESDMDMEIVIEE', 'BRITE': 'KEGG Orthology (KO) [BR:sita00001]\\n             09100 Metabolism\\n              09108 Metabolism of cofactors and vitamins\\n               00740 Riboflavin metabolism\\n                101780613\\n            Enzymes [BR:sita01000]\\n             3. Hydrolases\\n              3.1  Acting on ester bonds\\n               3.1.3  Phosphoric-monoester hydrolases\\n                3.1.3.104  5-amino-6-(5-phospho-D-ribitylamino)uracil phosphatase\\n                 101780613', 'MOTIF': {'Pfam': 'HAD_2 Hydrolase Hydrolase_like'}, 'PATHWAY': {'sita01100': 'Metabolic pathways', 'sita01110': 'Biosynthesis of secondary metabolites', 'sita00740': 'Riboflavin metabolism'}, 'ORTHOLOGY': {'K22912': '5-amino-6-(5-phospho-D-ribitylamino)uracil phosphatase [EC:3.1.3.104]'}, 'POSITION': 'VII', 'ENTRY': '101780613         CDS       T02818', 'ORGANISM': 'sita  Setaria italica (foxtail millet)', 'MODULE': {'sita_M00125': 'Riboflavin biosynthesis, GTP => riboflavin/FMN/FAD'}}"
     ]
    },
    {
     "name": "stdout",
     "output_type": "stream",
     "text": [
      "\n"
     ]
    }
   ],
   "source": [
    "targetGene = convDb['ncbi-proteinid:XP_004976472']\n",
    "gene_obj = s.get(targetGene)\n",
    "gene_obj = s.parse(gene_obj)\n",
    "print(gene_obj)"
   ]
  },
  {
   "cell_type": "markdown",
   "metadata": {},
   "source": [
    "Ultimately I will want to  aggregate the data as follows\n",
    "\n",
    "{geneName:{'ko':<kegg orthology>,\n",
    "           'call': < A,B or ambig >,\n",
    "\n"
   ]
  },
  {
   "cell_type": "code",
   "execution_count": 22,
   "metadata": {},
   "outputs": [
    {
     "name": "stdout",
     "output_type": "stream",
     "text": [
      "CPU times: user 8.97 ms, sys: 71 µs, total: 9.04 ms"
     ]
    },
    {
     "name": "stdout",
     "output_type": "stream",
     "text": [
      "\n"
     ]
    },
    {
     "name": "stdout",
     "output_type": "stream",
     "text": [
      "Wall time: 228 ms"
     ]
    },
    {
     "name": "stdout",
     "output_type": "stream",
     "text": [
      "\n"
     ]
    },
    {
     "data": {
      "text/plain": [
       "'ENTRY       19526851          CDS       T02818\\nNAME        ndhD, W841_p014\\nDEFINITION  (RefSeq) NADH-plastoquinone oxidoreductase subunit 4\\nORTHOLOGY   K05575  NAD(P)H-quinone oxidoreductase subunit 4 [EC:7.1.1.2]\\nORGANISM    sita  Setaria italica (foxtail millet)\\nPATHWAY     sita00190  Oxidative phosphorylation\\n            sita01100  Metabolic pathways\\nMODULE      sita_M00145  NAD(P)H:quinone oxidoreductase, chloroplasts and cyanobacteria\\nBRITE       KEGG Orthology (KO) [BR:sita00001]\\n             09100 Metabolism\\n              09102 Energy metabolism\\n               00190 Oxidative phosphorylation\\n                19526851 (ndhD)\\n            Enzymes [BR:sita01000]\\n             7. Translocases\\n              7.1  Catalysing the translocation of hydrons\\n               7.1.1  Linked to oxidoreductase reactions\\n                7.1.1.2  NADH:ubiquinone reductase (H+-translocating)\\n                 19526851 (ndhD)\\nPOSITION    PT\\nMOTIF       Pfam: Proton_antipo_M\\nDBLINKS     NCBI-GeneID: 19526851\\n            NCBI-ProteinID: YP_008815800\\n            UniProt: U5TXE1\\nAASEQ       498\\n            MSYFPWLTILVVLPIFAGSLIFFLPHKGNKIVRWYTISICLLEFLLMTYAFCYHFQLEDP\\n            LIQLKEDSKWIDVLDFHWRLGIDGLSLGSILLTGFITTLATLAAWPVTRNSRLFYFLMLA\\n            MYSGQIGLFSSRDLLLFFIMWELELIPVYLLLSMWGGKRRLYSATKFILYTAGGSIFFLI\\n            GVLGMGLYGSNEPGLDLERLINQSYPATLEILLYFGFLIAYAVKLPIIPLHTWLPDTHGE\\n            AHYSTCMLLAGILLKMGAYGLIRINMELLPHAHYLFSPCLVIIGAVQIIYAASTSLGQRN\\n            FKKRIAYSSVSHMGFIIIGIGSITNIGLNGALLQILSHGFIGATLFFLAGTACDRVRLVY\\n            LEELGGISIPMPKIFTMFSSFSMASLALPGMSGFVAELVVFFGLITSPKFMLMPKMLITF\\n            VMAIGMILTPIYLLSMLRQMFYGYKLFHVPNENFVGPRELFLLICIFLPVIGIGIYPDLV\\n            LSLSVDRVEALLSNYYPK\\nNTSEQ       1497\\n            atgagttattttccttggttaacaatacttgttgttttgccgatatttgcaggttcatta\\n            attttctttttacctcataaaggaaataaaatcgttaggtggtatactatatctatttgt\\n            ttattagaattccttctaatgacttatgcattctgttatcatttccaattggaggatccc\\n            ttaatccaattaaaggaggattctaaatggatagatgttttggatttccactggagattg\\n            ggaatcgatggactttcattaggatccattttattgacaggatttatcactactttagct\\n            actttagcggcttggccggttacccggaattcgcgattattctatttcctgatgctagca\\n            atgtatagcggtcaaataggattattctcttcacgagaccttttacttttttttatcatg\\n            tgggagttagaattaatccctgtttacttacttttatccatgtgggggggaaagaggcgt\\n            ctgtattcagctaccaagtttattttgtatactgcaggcggttccatttttttcttaatt\\n            ggagttctgggtatggggttatatggttccaatgaacccggattagatttggaaagattg\\n            attaatcaatcataccctgcaacattggaaatactactgtattttggcttccttattgct\\n            tatgctgtcaaattgccaattatacctctacatacgtggttaccagatacccatggggaa\\n            gcgcattacagtacatgtatgcttttagccggaattctattaaagatgggagcatacgga\\n            ttgattcggatcaatatggaattgttacctcatgctcattatctattttccccctgcttg\\n            gtaataataggagcggtgcaaataatctatgcagcttcaacttctcttggtcaacgaaat\\n            ttcaaaaaaagaatagcctactcctccgtatctcacatgggtttcataattataggaatt\\n            ggttccataaccaacattggactaaatggagctcttttacaaatattatcccatggattt\\n            atcggtgctacactttttttcttggcgggaacggcttgtgatagagtgcgtcttgtttat\\n            ctcgaagaattggggggaatatctattccaatgccaaaaatttttaccatgtttagtagc\\n            ttttcaatggcttctcttgccttgccaggaatgagcggttttgttgcagaattagtagta\\n            ttttttggactaattactagtcctaaatttatgttaatgccaaaaatgctaattactttt\\n            gtaatggcaattggaatgatattaactcctatttatttattatctatgttacgccagatg\\n            ttctatggatacaagctatttcatgttccaaatgaaaattttgtgggaccacgagaacta\\n            tttcttttaatctgtatctttttaccagtaataggaattggtatttatccagatttagtt\\n            ctctcgctatccgttgacagggtagaggctctattatccaattattatcctaaatag\\n///\\n'"
      ]
     },
     "execution_count": 22,
     "metadata": {},
     "output_type": "execute_result"
    }
   ],
   "source": [
    "%time s.get('sita:19526851')"
   ]
  },
  {
   "cell_type": "code",
   "execution_count": 24,
   "metadata": {},
   "outputs": [
    {
     "name": "stdout",
     "output_type": "stream",
     "text": [
      "0"
     ]
    },
    {
     "name": "stdout",
     "output_type": "stream",
     "text": [
      "\n"
     ]
    },
    {
     "name": "stdout",
     "output_type": "stream",
     "text": [
      "100"
     ]
    },
    {
     "name": "stdout",
     "output_type": "stream",
     "text": [
      "\n"
     ]
    },
    {
     "name": "stdout",
     "output_type": "stream",
     "text": [
      "200"
     ]
    },
    {
     "name": "stdout",
     "output_type": "stream",
     "text": [
      "\n"
     ]
    },
    {
     "name": "stdout",
     "output_type": "stream",
     "text": [
      "300"
     ]
    },
    {
     "name": "stdout",
     "output_type": "stream",
     "text": [
      "\n"
     ]
    },
    {
     "name": "stdout",
     "output_type": "stream",
     "text": [
      "400"
     ]
    },
    {
     "name": "stdout",
     "output_type": "stream",
     "text": [
      "\n"
     ]
    },
    {
     "name": "stdout",
     "output_type": "stream",
     "text": [
      "500"
     ]
    },
    {
     "name": "stdout",
     "output_type": "stream",
     "text": [
      "\n"
     ]
    },
    {
     "name": "stdout",
     "output_type": "stream",
     "text": [
      "600"
     ]
    },
    {
     "name": "stdout",
     "output_type": "stream",
     "text": [
      "\n"
     ]
    },
    {
     "name": "stdout",
     "output_type": "stream",
     "text": [
      "700"
     ]
    },
    {
     "name": "stdout",
     "output_type": "stream",
     "text": [
      "\n"
     ]
    },
    {
     "name": "stdout",
     "output_type": "stream",
     "text": [
      "800"
     ]
    },
    {
     "name": "stdout",
     "output_type": "stream",
     "text": [
      "\n"
     ]
    },
    {
     "name": "stdout",
     "output_type": "stream",
     "text": [
      "900"
     ]
    },
    {
     "name": "stdout",
     "output_type": "stream",
     "text": [
      "\n"
     ]
    },
    {
     "name": "stdout",
     "output_type": "stream",
     "text": [
      "1000"
     ]
    },
    {
     "name": "stdout",
     "output_type": "stream",
     "text": [
      "\n"
     ]
    },
    {
     "name": "stdout",
     "output_type": "stream",
     "text": [
      "1100"
     ]
    },
    {
     "name": "stdout",
     "output_type": "stream",
     "text": [
      "\n"
     ]
    },
    {
     "name": "stdout",
     "output_type": "stream",
     "text": [
      "1200"
     ]
    },
    {
     "name": "stdout",
     "output_type": "stream",
     "text": [
      "\n"
     ]
    },
    {
     "name": "stdout",
     "output_type": "stream",
     "text": [
      "1300"
     ]
    },
    {
     "name": "stdout",
     "output_type": "stream",
     "text": [
      "\n"
     ]
    },
    {
     "name": "stdout",
     "output_type": "stream",
     "text": [
      "1400"
     ]
    },
    {
     "name": "stdout",
     "output_type": "stream",
     "text": [
      "\n"
     ]
    },
    {
     "name": "stdout",
     "output_type": "stream",
     "text": [
      "1500"
     ]
    },
    {
     "name": "stdout",
     "output_type": "stream",
     "text": [
      "\n"
     ]
    },
    {
     "name": "stdout",
     "output_type": "stream",
     "text": [
      "1600"
     ]
    },
    {
     "name": "stdout",
     "output_type": "stream",
     "text": [
      "\n"
     ]
    },
    {
     "name": "stdout",
     "output_type": "stream",
     "text": [
      "1700"
     ]
    },
    {
     "name": "stdout",
     "output_type": "stream",
     "text": [
      "\n"
     ]
    },
    {
     "name": "stdout",
     "output_type": "stream",
     "text": [
      "1800"
     ]
    },
    {
     "name": "stdout",
     "output_type": "stream",
     "text": [
      "\n"
     ]
    },
    {
     "name": "stdout",
     "output_type": "stream",
     "text": [
      "1900"
     ]
    },
    {
     "name": "stdout",
     "output_type": "stream",
     "text": [
      "\n"
     ]
    },
    {
     "name": "stdout",
     "output_type": "stream",
     "text": [
      "2000"
     ]
    },
    {
     "name": "stdout",
     "output_type": "stream",
     "text": [
      "\n"
     ]
    },
    {
     "name": "stdout",
     "output_type": "stream",
     "text": [
      "2100"
     ]
    },
    {
     "name": "stdout",
     "output_type": "stream",
     "text": [
      "\n"
     ]
    },
    {
     "name": "stdout",
     "output_type": "stream",
     "text": [
      "2200"
     ]
    },
    {
     "name": "stdout",
     "output_type": "stream",
     "text": [
      "\n"
     ]
    },
    {
     "name": "stdout",
     "output_type": "stream",
     "text": [
      "2300"
     ]
    },
    {
     "name": "stdout",
     "output_type": "stream",
     "text": [
      "\n"
     ]
    },
    {
     "name": "stdout",
     "output_type": "stream",
     "text": [
      "2400"
     ]
    },
    {
     "name": "stdout",
     "output_type": "stream",
     "text": [
      "\n"
     ]
    },
    {
     "name": "stdout",
     "output_type": "stream",
     "text": [
      "2500"
     ]
    },
    {
     "name": "stdout",
     "output_type": "stream",
     "text": [
      "\n"
     ]
    },
    {
     "name": "stdout",
     "output_type": "stream",
     "text": [
      "2600"
     ]
    },
    {
     "name": "stdout",
     "output_type": "stream",
     "text": [
      "\n"
     ]
    },
    {
     "name": "stdout",
     "output_type": "stream",
     "text": [
      "2700"
     ]
    },
    {
     "name": "stdout",
     "output_type": "stream",
     "text": [
      "\n"
     ]
    },
    {
     "name": "stdout",
     "output_type": "stream",
     "text": [
      "2800"
     ]
    },
    {
     "name": "stdout",
     "output_type": "stream",
     "text": [
      "\n"
     ]
    },
    {
     "name": "stdout",
     "output_type": "stream",
     "text": [
      "2900"
     ]
    },
    {
     "name": "stdout",
     "output_type": "stream",
     "text": [
      "\n"
     ]
    },
    {
     "name": "stdout",
     "output_type": "stream",
     "text": [
      "3000"
     ]
    },
    {
     "name": "stdout",
     "output_type": "stream",
     "text": [
      "\n"
     ]
    },
    {
     "name": "stdout",
     "output_type": "stream",
     "text": [
      "3100"
     ]
    },
    {
     "name": "stdout",
     "output_type": "stream",
     "text": [
      "\n"
     ]
    },
    {
     "name": "stdout",
     "output_type": "stream",
     "text": [
      "3200"
     ]
    },
    {
     "name": "stdout",
     "output_type": "stream",
     "text": [
      "\n"
     ]
    },
    {
     "name": "stdout",
     "output_type": "stream",
     "text": [
      "3300"
     ]
    },
    {
     "name": "stdout",
     "output_type": "stream",
     "text": [
      "\n"
     ]
    },
    {
     "name": "stdout",
     "output_type": "stream",
     "text": [
      "3400"
     ]
    },
    {
     "name": "stdout",
     "output_type": "stream",
     "text": [
      "\n"
     ]
    },
    {
     "name": "stdout",
     "output_type": "stream",
     "text": [
      "3500"
     ]
    },
    {
     "name": "stdout",
     "output_type": "stream",
     "text": [
      "\n"
     ]
    },
    {
     "name": "stdout",
     "output_type": "stream",
     "text": [
      "3600"
     ]
    },
    {
     "name": "stdout",
     "output_type": "stream",
     "text": [
      "\n"
     ]
    },
    {
     "name": "stdout",
     "output_type": "stream",
     "text": [
      "3700"
     ]
    },
    {
     "name": "stdout",
     "output_type": "stream",
     "text": [
      "\n"
     ]
    },
    {
     "name": "stdout",
     "output_type": "stream",
     "text": [
      "3800"
     ]
    },
    {
     "name": "stdout",
     "output_type": "stream",
     "text": [
      "\n"
     ]
    },
    {
     "name": "stdout",
     "output_type": "stream",
     "text": [
      "3900"
     ]
    },
    {
     "name": "stdout",
     "output_type": "stream",
     "text": [
      "\n"
     ]
    },
    {
     "name": "stdout",
     "output_type": "stream",
     "text": [
      "4000"
     ]
    },
    {
     "name": "stdout",
     "output_type": "stream",
     "text": [
      "\n"
     ]
    },
    {
     "name": "stdout",
     "output_type": "stream",
     "text": [
      "4100"
     ]
    },
    {
     "name": "stdout",
     "output_type": "stream",
     "text": [
      "\n"
     ]
    },
    {
     "name": "stdout",
     "output_type": "stream",
     "text": [
      "4200"
     ]
    },
    {
     "name": "stdout",
     "output_type": "stream",
     "text": [
      "\n"
     ]
    },
    {
     "name": "stdout",
     "output_type": "stream",
     "text": [
      "4300"
     ]
    },
    {
     "name": "stdout",
     "output_type": "stream",
     "text": [
      "\n"
     ]
    },
    {
     "name": "stdout",
     "output_type": "stream",
     "text": [
      "4400"
     ]
    }
   ],
   "source": [
    "for X in range(0,10000):\n",
    "    if (X %100 ) == 0: \n",
    "        print(X)"
   ]
  },
  {
   "cell_type": "code",
   "execution_count": null,
   "metadata": {},
   "outputs": [],
   "source": []
  }
 ],
 "metadata": {
  "kernelspec": {
   "display_name": "Python 2",
   "language": "python",
   "name": "python2"
  },
  "language_info": {
   "codemirror_mode": {
    "name": "ipython",
    "version": 2
   },
   "file_extension": ".py",
   "mimetype": "text/x-python",
   "name": "python",
   "nbconvert_exporter": "python",
   "pygments_lexer": "ipython2",
   "version": "2.7.6"
  }
 },
 "nbformat": 4,
 "nbformat_minor": 0
}
