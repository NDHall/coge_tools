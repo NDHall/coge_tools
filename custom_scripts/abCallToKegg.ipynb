{
 "cells": [
  {
   "cell_type": "markdown",
   "metadata": {
    "collapsed": true
   },
   "source": [
    "   "
   ]
  },
  {
   "cell_type": "markdown",
   "metadata": {},
   "source": [
    "# Making Dictionary to Classify genes"
   ]
  },
  {
   "cell_type": "markdown",
   "metadata": {},
   "source": [
    "* Load lists and create dictionary to populate."
   ]
  },
  {
   "cell_type": "code",
   "execution_count": 1,
   "metadata": {},
   "outputs": [],
   "source": [
    "    a_ambig = '/home/ndh0004/Documents/keggPthCor/a_ambig_genes.list'\n",
    "    a_good = '/home/ndh0004/Documents/keggPthCor/a_good_genes.list'\n",
    "    a_xo = '/home/ndh0004/Documents/keggPthCor/a_xo_genes.list'\n",
    "    b_ambig = '/home/ndh0004/Documents/keggPthCor/b_ambig_genes.list'\n",
    "    b_good = '/home/ndh0004/Documents/keggPthCor/b_good_genes.list'\n",
    "    b_xo = '/home/ndh0004/Documents/keggPthCor/b_xo_genes.list'\n",
    "    a_ambig_open = open(a_ambig)\n",
    "    a_ambig_list = a_ambig_open.read().rstrip('\\n').split('\\n')\n",
    "    a_ambig_open.close()\n",
    "    a_good_open = open(a_good)\n",
    "    a_good_list = a_good_open.read().rstrip('\\n').split('\\n')\n",
    "    a_good_open.close()\n",
    "    a_xo_open = open(a_xo)\n",
    "    a_xo_list = a_xo_open.read().rstrip('\\n').split('\\n')\n",
    "    a_xo_open.close()\n",
    "    b_ambig_open = open(b_ambig)\n",
    "    b_ambig_list = b_ambig_open.read().rstrip('\\n').split('\\n')\n",
    "    b_ambig_open.close()\n",
    "    b_good_open = open(b_good)\n",
    "    b_good_list = b_good_open.read().rstrip('\\n').split('\\n')\n",
    "    b_good_open.close()\n",
    "    b_xo_open = open(b_xo)\n",
    "    b_xo_list = b_xo_open.read().rstrip('\\n').split('\\n')\n",
    "    b_xo_open.close()\n",
    "    ab_dict = {}"
   ]
  },
  {
   "cell_type": "markdown",
   "metadata": {},
   "source": [
    "* Load dictionary"
   ]
  },
  {
   "cell_type": "code",
   "execution_count": 2,
   "metadata": {},
   "outputs": [],
   "source": [
    "conflict_list = []\n",
    "for gene_list,call,conf, in  zip([a_good_list, b_good_list, a_xo_list, b_xo_list,a_ambig_list,b_ambig_list],\n",
    "                             ['a','b','a','b','a','b'],\n",
    "                             ['good', 'good','xo','xo','prov','prov']):\n",
    "    for gene in gene_list:\n",
    "        if gene in ab_dict:\n",
    "            if ab_dict[gene][0] != call and \\\n",
    "                ab_dict[gene][1] != conf :\n",
    "                ab_dict[gene] += [call, conf]\n",
    "                conflict_list.append(gene)\n",
    "            else:\n",
    "                #gtf prints out gene per exon, this can lead to inflated list.\n",
    "                pass\n",
    "        else:\n",
    "            ab_dict[gene] = [call, conf]"
   ]
  },
  {
   "cell_type": "code",
   "execution_count": 3,
   "metadata": {},
   "outputs": [
    {
     "name": "stdout",
     "output_type": "stream",
     "text": [
      "0\n"
     ]
    }
   ],
   "source": [
    "print(len(conflict_list))"
   ]
  },
  {
   "cell_type": "markdown",
   "metadata": {},
   "source": [
    "## Add *Setaria italica* annontation\n"
   ]
  },
  {
   "cell_type": "code",
   "execution_count": 4,
   "metadata": {},
   "outputs": [],
   "source": [
    "ecorToSita_h = '/home/ndh0004/Documents/keggPthCor/Ecor2Sita.list'\n",
    "ecorToSita_o = open(ecorToSita_h)\n",
    "ecorToSita = ecorToSita_o.read().rstrip('\\n').split('\\n')\n"
   ]
  },
  {
   "cell_type": "code",
   "execution_count": 5,
   "metadata": {},
   "outputs": [
    {
     "name": "stdout",
     "output_type": "stream",
     "text": [
      "27602\n"
     ]
    }
   ],
   "source": [
    "missing = []\n",
    "found = 0\n",
    "found_list =[]\n",
    "for line in ecorToSita :\n",
    "    ecor, sita = line.split(' ')\n",
    "    if ecor in ab_dict:\n",
    "        ab_dict[ecor].append(sita)\n",
    "        found += 1\n",
    "        found_list.append(ecor)\n",
    "    else:\n",
    "        missing.append(ecor)\n",
    "print(found)"
   ]
  },
  {
   "cell_type": "code",
   "execution_count": 6,
   "metadata": {},
   "outputs": [
    {
     "data": {
      "text/plain": [
       "31588"
      ]
     },
     "execution_count": 6,
     "metadata": {},
     "output_type": "execute_result"
    }
   ],
   "source": [
    "len(missing)"
   ]
  },
  {
   "cell_type": "code",
   "execution_count": 7,
   "metadata": {},
   "outputs": [
    {
     "data": {
      "text/plain": [
       "28909"
      ]
     },
     "execution_count": 7,
     "metadata": {},
     "output_type": "execute_result"
    }
   ],
   "source": [
    "len(ab_dict)"
   ]
  },
  {
   "cell_type": "code",
   "execution_count": 8,
   "metadata": {},
   "outputs": [
    {
     "name": "stdout",
     "output_type": "stream",
     "text": [
      "PR202_augustus_masked-Super-Scaffold_342-processed-gene-1.88\nPR202_augustus_masked-Super-Scaffold_4-processed-gene-1.477\nPR202_augustus_masked-Super-Scaffold_361-processed-gene-0.126\nPR202_augustus_masked-Super-Scaffold_305-processed-gene-4.154\nPR202_augustus_masked-Super-Scaffold_1349-processed-gene-0.7\nPR202_maker-Super-Scaffold_828-augustus-gene-0.137\nPR202_maker-Super-Scaffold_4946-augustus-gene-1.725\nPR202_maker-Super-Scaffold_266-augustus-gene-0.455\nPR202_augustus_masked-Super-Scaffold_307-processed-gene-3.398\nPR202_maker-Super-Scaffold_17-augustus-gene-3.374\nPR202_maker-Super-Scaffold_435-augustus-gene-2.784\nPR202_augustus_masked-Super-Scaffold_6-processed-gene-2.157\nPR202_maker-Super-Scaffold_70-augustus-gene-4.375\nPR202_maker-Super-Scaffold_18-augustus-gene-1.16\nPR202_maker-Super-Scaffold_581-augustus-gene-0.370\nPR202_maker-Super-Scaffold_17-augustus-gene-4.19\nPR202_augustus_masked-Super-Scaffold_122-processed-gene-0.218\nPR202_maker-Super-Scaffold_202-augustus-gene-7.247\nPR202_maker-Super-Scaffold_202-augustus-gene-3.2\nPR202_maker-Super-Scaffold_257-augustus-gene-0.19\n"
     ]
    }
   ],
   "source": [
    "for missed in missing[0:20]:\n",
    "    print(missed)"
   ]
  },
  {
   "cell_type": "code",
   "execution_count": 9,
   "metadata": {},
   "outputs": [
    {
     "name": "stdout",
     "output_type": "stream",
     "text": [
      "1307\n"
     ]
    }
   ],
   "source": [
    "short = []\n",
    "for key in ab_dict:\n",
    "    if len(ab_dict[key]) == 2:\n",
    "                short.append(key)\n",
    "print(len(short))"
   ]
  },
  {
   "cell_type": "markdown",
   "metadata": {},
   "source": [
    "Not all genes had hits that passed filtering step. Notice we have a fair number of masked genes. "
   ]
  },
  {
   "cell_type": "code",
   "execution_count": 10,
   "metadata": {},
   "outputs": [
    {
     "name": "stdout",
     "output_type": "stream",
     "text": [
      "['PR202_maker-Super-Scaffold_50-exonerate_protein2genome-gene-2.320', 'PR202_maker-Super-Scaffold_549-exonerate_protein2genome-gene-0.537', 'PR202_augustus_masked-Super-Scaffold_364-processed-gene-0.299', 'PR202_maker-Super-Scaffold_124-augustus-gene-1.12', 'PR202_augustus_masked-Super-Scaffold_25-processed-gene-1.134', 'PR202_maker-Super-Scaffold_2412-exonerate_protein2genome-gene-0.195', 'PR202_augustus_masked-Super-Scaffold_332-processed-gene-0.166', 'PR202_augustus_masked-Super-Scaffold_12-processed-gene-1.61', 'PR202_augustus_masked-Super-Scaffold_147-processed-gene-1.330', 'PR202_maker-Super-Scaffold_153-augustus-gene-0.47']\n...\n['PR202_maker-Super-Scaffold_453-augustus-gene-2.64', 'PR202_augustus_masked-Super-Scaffold_214-processed-gene-0.1093', 'PR202_augustus_masked-Super-Scaffold_161-processed-gene-1.24', 'PR202_augustus_masked-Super-Scaffold_85-processed-gene-0.172', 'PR202_augustus_masked-Super-Scaffold_115-processed-gene-0.9', 'PR202_augustus_masked-Super-Scaffold_337-processed-gene-0.33', 'PR202_augustus_masked-Super-Scaffold_523-processed-gene-1.729', 'PR202_augustus_masked-Super-Scaffold_12-processed-gene-0.306', 'PR202_maker-Super-Scaffold_55-augustus-gene-1.189', 'PR202_maker-Super-Scaffold_243-augustus-gene-2.19']\n"
     ]
    }
   ],
   "source": [
    "print(short[0:10])\n",
    "print('...')\n",
    "print(short[-10:])\n"
   ]
  },
  {
   "cell_type": "markdown",
   "metadata": {},
   "source": [
    "* You can see this below. The filtering step was worth it to throw out low quality hits\n",
    "\n",
    "* These missed genes are expected. \n",
    "\n",
    "egrep -w  PR202_augustus_masked-Super-Scaffold_16-processed-gene-3.823 Ecor_PR202_gene_names.fa protx_out_sita \n",
    "in the Fasta->Ecor_PR202_gene_names.fa:>PR202_augustus_masked-Super-Scaffold_16-processed-gene-3.823-mRNA-1 gene=PR202_augustus_masked-Super-Scaffold_16-processed-gene-3.823 CDS=1-348\n",
    "In the Blast Results -> protx_out_sita:PR202_augustus_masked-Super-Scaffold_16-processed-gene-3.823-mRNA-1\tXP_012701369.1\t33.333\t48\t32\t0\t189\t46\t212\t259\t1.8\t28.1\n",
    "protx_out_sita:PR202_augustus_masked-Super-Scaffold_16-processed-gene-3.823-mRNA-1\tXP_004958466.1\t40.625\t32\t19\t0\t123\t28\t191\t222\t3.2\t27.3\n",
    "protx_out_sita:PR202_augustus_masked-Super-Scaffold_16-processed-gene-3.823-mRNA-1\tXP_012704256.1\t52.174\t23\t11\t0\t276\t344\t16\t38\t4.7\t26.9\n"
   ]
  },
  {
   "cell_type": "markdown",
   "metadata": {},
   "source": [
    "## KEGG Pathways\n",
    "* Now let's add KO ids and names to each of these accessions. "
   ]
  },
  {
   "cell_type": "code",
   "execution_count": 12,
   "metadata": {},
   "outputs": [
    {
     "data": {
      "text/plain": [
       "'sita:19526851'"
      ]
     },
     "execution_count": 12,
     "metadata": {},
     "output_type": "execute_result"
    }
   ],
   "source": [
    "#get a conversion dict\n",
    "from bioservices import KEGG\n",
    "s = KEGG()\n",
    "convDb = s.conv('sita','ncbi-proteinid')\n",
    "convDb['ncbi-proteinid:YP_008815800']"
   ]
  },
  {
   "cell_type": "code",
   "execution_count": 13,
   "metadata": {},
   "outputs": [
    {
     "name": "stdout",
     "output_type": "stream",
     "text": [
      "3"
     ]
    },
    {
     "name": "stdout",
     "output_type": "stream",
     "text": [
      "\n"
     ]
    },
    {
     "name": "stdout",
     "output_type": "stream",
     "text": [
      "['a', 'xo', 'XP_022683105.1']"
     ]
    },
    {
     "name": "stdout",
     "output_type": "stream",
     "text": [
      "\n"
     ]
    },
    {
     "name": "stdout",
     "output_type": "stream",
     "text": [
      "3"
     ]
    },
    {
     "name": "stdout",
     "output_type": "stream",
     "text": [
      "\n"
     ]
    },
    {
     "name": "stdout",
     "output_type": "stream",
     "text": [
      "['b', 'good', 'XP_012703061.1']"
     ]
    },
    {
     "name": "stdout",
     "output_type": "stream",
     "text": [
      "\n"
     ]
    },
    {
     "name": "stdout",
     "output_type": "stream",
     "text": [
      "3"
     ]
    },
    {
     "name": "stdout",
     "output_type": "stream",
     "text": [
      "\n"
     ]
    },
    {
     "name": "stdout",
     "output_type": "stream",
     "text": [
      "['b', 'xo', 'XP_004978593.1']"
     ]
    },
    {
     "name": "stdout",
     "output_type": "stream",
     "text": [
      "\n"
     ]
    },
    {
     "name": "stdout",
     "output_type": "stream",
     "text": [
      "3"
     ]
    },
    {
     "name": "stdout",
     "output_type": "stream",
     "text": [
      "\n"
     ]
    },
    {
     "name": "stdout",
     "output_type": "stream",
     "text": [
      "['b', 'xo', 'XP_004970367.1']"
     ]
    },
    {
     "name": "stdout",
     "output_type": "stream",
     "text": [
      "\n"
     ]
    },
    {
     "name": "stdout",
     "output_type": "stream",
     "text": [
      "3"
     ]
    },
    {
     "name": "stdout",
     "output_type": "stream",
     "text": [
      "\n"
     ]
    },
    {
     "name": "stdout",
     "output_type": "stream",
     "text": [
      "['b', 'xo', 'XP_004960996.1']"
     ]
    },
    {
     "name": "stdout",
     "output_type": "stream",
     "text": [
      "\n"
     ]
    },
    {
     "name": "stdout",
     "output_type": "stream",
     "text": [
      "3"
     ]
    }
   ],
   "source": [
    "no_joy_for_sita = []\n",
    "annotated = []\n",
    "for gene in found_list[0:10]:\n",
    "    print(len(ab_dict[gene]))\n",
    "    print(ab_dict[gene])\n",
    "    \n",
    "\n",
    "            "
   ]
  },
  {
   "cell_type": "code",
   "execution_count": 14,
   "metadata": {},
   "outputs": [],
   "source": [
    "annotated =[]\n",
    "no_joy_for_sita = []\n",
    "for gene in found_list:\n",
    "        sita = ab_dict[gene][-1] \n",
    "        sita_q = 'ncbi-proteinid:{g}'.format(g=sita[:-2])\n",
    "        if sita_q in convDb:\n",
    "            ab_dict[gene].append(convDb[sita_q])\n",
    "            annotated.append(gene)\n",
    "        else:\n",
    "            no_joy_for_sita.append(sita)\n",
    "            "
   ]
  },
  {
   "cell_type": "code",
   "execution_count": 15,
   "metadata": {},
   "outputs": [
    {
     "data": {
      "text/plain": [
       "['XP_012703061.1',\n 'XP_004970367.1',\n 'XP_014661048.1',\n 'XP_022680104.1',\n 'XP_004966084.1',\n 'XP_022679115.1',\n 'XP_004966084.1',\n 'XP_022681711.1',\n 'XP_022681519.1',\n 'XP_022680453.1']"
      ]
     },
     "execution_count": 15,
     "metadata": {},
     "output_type": "execute_result"
    }
   ],
   "source": [
    "no_joy_for_sita[0:10]"
   ]
  },
  {
   "cell_type": "markdown",
   "metadata": {},
   "source": [
    "Not all genes are annontated in DAVID. Again, this is not a problem since we are only looking for a highly conserved pathway."
   ]
  },
  {
   "cell_type": "code",
   "execution_count": 16,
   "metadata": {},
   "outputs": [
    {
     "data": {
      "text/plain": [
       "23986"
      ]
     },
     "execution_count": 16,
     "metadata": {},
     "output_type": "execute_result"
    }
   ],
   "source": [
    "len(annotated)"
   ]
  },
  {
   "cell_type": "code",
   "execution_count": 18,
   "metadata": {},
   "outputs": [
    {
     "name": "stdout",
     "output_type": "stream",
     "text": [
      "['PR202_maker-Super-Scaffold_95-augustus-gene-0.549', 'PR202_maker-Super-Scaffold_266-augustus-gene-1.516', 'PR202_maker-Super-Scaffold_12-augustus-gene-3.653', 'PR202_maker-Super-Scaffold_440-augustus-gene-0.45', 'PR202_maker-Super-Scaffold_34-augustus-gene-1.616', 'PR202_maker-Super-Scaffold_2412-augustus-gene-1.594', 'PR202_augustus_masked-Super-Scaffold_2412-processed-gene-1.53', 'PR202_augustus_masked-Super-Scaffold_16-processed-gene-2.242', 'PR202_augustus_masked-Super-Scaffold_25-processed-gene-1.229', 'PR202_maker-Super-Scaffold_2765-augustus-gene-0.31']"
     ]
    },
    {
     "name": "stdout",
     "output_type": "stream",
     "text": [
      "\n"
     ]
    }
   ],
   "source": [
    "print(annotated[0:10])"
   ]
  },
  {
   "cell_type": "code",
   "execution_count": 19,
   "metadata": {},
   "outputs": [
    {
     "name": "stdout",
     "output_type": "stream",
     "text": [
      "1"
     ]
    },
    {
     "name": "stdout",
     "output_type": "stream",
     "text": [
      " "
     ]
    },
    {
     "name": "stdout",
     "output_type": "stream",
     "text": [
      "PR202_maker-Super-Scaffold_95-augustus-gene-0.549"
     ]
    },
    {
     "name": "stdout",
     "output_type": "stream",
     "text": [
      " "
     ]
    },
    {
     "name": "stdout",
     "output_type": "stream",
     "text": [
      "['a', 'xo', 'XP_022683105.1', 'sita:101754518']"
     ]
    },
    {
     "name": "stdout",
     "output_type": "stream",
     "text": [
      "\n"
     ]
    },
    {
     "name": "stdout",
     "output_type": "stream",
     "text": [
      "2"
     ]
    },
    {
     "name": "stdout",
     "output_type": "stream",
     "text": [
      " "
     ]
    },
    {
     "name": "stdout",
     "output_type": "stream",
     "text": [
      "PR202_maker-Super-Scaffold_266-augustus-gene-1.516"
     ]
    },
    {
     "name": "stdout",
     "output_type": "stream",
     "text": [
      " "
     ]
    },
    {
     "name": "stdout",
     "output_type": "stream",
     "text": [
      "['b', 'xo', 'XP_004978593.1', 'sita:101782089']"
     ]
    },
    {
     "name": "stdout",
     "output_type": "stream",
     "text": [
      "\n"
     ]
    },
    {
     "name": "stdout",
     "output_type": "stream",
     "text": [
      "3"
     ]
    },
    {
     "name": "stdout",
     "output_type": "stream",
     "text": [
      " "
     ]
    },
    {
     "name": "stdout",
     "output_type": "stream",
     "text": [
      "PR202_maker-Super-Scaffold_12-augustus-gene-3.653"
     ]
    },
    {
     "name": "stdout",
     "output_type": "stream",
     "text": [
      " "
     ]
    },
    {
     "name": "stdout",
     "output_type": "stream",
     "text": [
      "['b', 'xo', 'XP_004960996.1', 'sita:101756586']"
     ]
    },
    {
     "name": "stdout",
     "output_type": "stream",
     "text": [
      "\n"
     ]
    },
    {
     "name": "stdout",
     "output_type": "stream",
     "text": [
      "4"
     ]
    },
    {
     "name": "stdout",
     "output_type": "stream",
     "text": [
      " "
     ]
    },
    {
     "name": "stdout",
     "output_type": "stream",
     "text": [
      "PR202_maker-Super-Scaffold_440-augustus-gene-0.45"
     ]
    },
    {
     "name": "stdout",
     "output_type": "stream",
     "text": [
      " "
     ]
    }
   ],
   "source": [
    "counter = 0\n",
    "for gene in annotated[0:10]:\n",
    "    counter += 1\n",
    "    print(counter,gene,ab_dict[gene])"
   ]
  },
  {
   "cell_type": "code",
   "execution_count": 20,
   "metadata": {},
   "outputs": [
    {
     "name": "stdout",
     "output_type": "stream",
     "text": [
      "23986"
     ]
    },
    {
     "name": "stdout",
     "output_type": "stream",
     "text": [
      "\n"
     ]
    }
   ],
   "source": [
    "print(len(annotated))"
   ]
  },
  {
   "cell_type": "code",
   "execution_count": 28,
   "metadata": {},
   "outputs": [
    {
     "name": "stdout",
     "output_type": "stream",
     "text": [
      "['None']"
     ]
    },
    {
     "name": "stdout",
     "output_type": "stream",
     "text": [
      "\n"
     ]
    },
    {
     "name": "stdout",
     "output_type": "stream",
     "text": [
      "1"
     ]
    },
    {
     "name": "stdout",
     "output_type": "stream",
     "text": [
      " "
     ]
    },
    {
     "name": "stdout",
     "output_type": "stream",
     "text": [
      "PR202_maker-Super-Scaffold_95-augustus-gene-0.549"
     ]
    },
    {
     "name": "stdout",
     "output_type": "stream",
     "text": [
      " "
     ]
    },
    {
     "name": "stdout",
     "output_type": "stream",
     "text": [
      "['a', 'xo', 'XP_022683105.1', 'sita:101754518']"
     ]
    },
    {
     "name": "stdout",
     "output_type": "stream",
     "text": [
      "\n"
     ]
    },
    {
     "name": "stdout",
     "output_type": "stream",
     "text": [
      "dict_keys(['K04646'])"
     ]
    },
    {
     "name": "stdout",
     "output_type": "stream",
     "text": [
      "\n"
     ]
    },
    {
     "name": "stdout",
     "output_type": "stream",
     "text": [
      "2"
     ]
    },
    {
     "name": "stdout",
     "output_type": "stream",
     "text": [
      " "
     ]
    },
    {
     "name": "stdout",
     "output_type": "stream",
     "text": [
      "PR202_maker-Super-Scaffold_266-augustus-gene-1.516"
     ]
    },
    {
     "name": "stdout",
     "output_type": "stream",
     "text": [
      " "
     ]
    },
    {
     "name": "stdout",
     "output_type": "stream",
     "text": [
      "['b', 'xo', 'XP_004978593.1', 'sita:101782089']"
     ]
    },
    {
     "name": "stdout",
     "output_type": "stream",
     "text": [
      "\n"
     ]
    },
    {
     "name": "stdout",
     "output_type": "stream",
     "text": [
      "dict_keys(['K15192'])"
     ]
    },
    {
     "name": "stdout",
     "output_type": "stream",
     "text": [
      "\n"
     ]
    },
    {
     "name": "stdout",
     "output_type": "stream",
     "text": [
      "3"
     ]
    },
    {
     "name": "stdout",
     "output_type": "stream",
     "text": [
      " "
     ]
    },
    {
     "name": "stdout",
     "output_type": "stream",
     "text": [
      "PR202_maker-Super-Scaffold_12-augustus-gene-3.653"
     ]
    },
    {
     "name": "stdout",
     "output_type": "stream",
     "text": [
      " "
     ]
    },
    {
     "name": "stdout",
     "output_type": "stream",
     "text": [
      "['b', 'xo', 'XP_004960996.1', 'sita:101756586']"
     ]
    },
    {
     "name": "stdout",
     "output_type": "stream",
     "text": [
      "\n"
     ]
    },
    {
     "name": "stdout",
     "output_type": "stream",
     "text": [
      "dict_keys(['K18442'])"
     ]
    },
    {
     "name": "stdout",
     "output_type": "stream",
     "text": [
      "\n"
     ]
    },
    {
     "name": "stdout",
     "output_type": "stream",
     "text": [
      "4"
     ]
    },
    {
     "name": "stdout",
     "output_type": "stream",
     "text": [
      " "
     ]
    },
    {
     "name": "stdout",
     "output_type": "stream",
     "text": [
      "PR202_maker-Super-Scaffold_440-augustus-gene-0.45"
     ]
    },
    {
     "name": "stdout",
     "output_type": "stream",
     "text": [
      " "
     ]
    },
    {
     "name": "stdout",
     "output_type": "stream",
     "text": [
      "['a', 'good', 'XP_004985012.1', 'sita:101767857']"
     ]
    },
    {
     "name": "stdout",
     "output_type": "stream",
     "text": [
      "\n"
     ]
    },
    {
     "name": "stdout",
     "output_type": "stream",
     "text": [
      "dict_keys(['K00284'])"
     ]
    },
    {
     "name": "stdout",
     "output_type": "stream",
     "text": [
      "\n"
     ]
    },
    {
     "name": "stdout",
     "output_type": "stream",
     "text": [
      "5"
     ]
    },
    {
     "name": "stdout",
     "output_type": "stream",
     "text": [
      " "
     ]
    },
    {
     "name": "stdout",
     "output_type": "stream",
     "text": [
      "PR202_maker-Super-Scaffold_34-augustus-gene-1.616"
     ]
    },
    {
     "name": "stdout",
     "output_type": "stream",
     "text": [
      " "
     ]
    },
    {
     "name": "stdout",
     "output_type": "stream",
     "text": [
      "['a', 'good', 'XP_004958567.1', 'sita:101766581']"
     ]
    },
    {
     "name": "stdout",
     "output_type": "stream",
     "text": [
      "\n"
     ]
    },
    {
     "name": "stdout",
     "output_type": "stream",
     "text": [
      "dict_keys(['K16251'])"
     ]
    },
    {
     "name": "stdout",
     "output_type": "stream",
     "text": [
      "\n"
     ]
    },
    {
     "name": "stdout",
     "output_type": "stream",
     "text": [
      "6"
     ]
    },
    {
     "name": "stdout",
     "output_type": "stream",
     "text": [
      " "
     ]
    },
    {
     "name": "stdout",
     "output_type": "stream",
     "text": [
      "PR202_maker-Super-Scaffold_2412-augustus-gene-1.594"
     ]
    },
    {
     "name": "stdout",
     "output_type": "stream",
     "text": [
      " "
     ]
    },
    {
     "name": "stdout",
     "output_type": "stream",
     "text": [
      "['b', 'xo', 'XP_004951807.1', 'sita:101773134']"
     ]
    },
    {
     "name": "stdout",
     "output_type": "stream",
     "text": [
      "\n"
     ]
    },
    {
     "name": "stdout",
     "output_type": "stream",
     "text": [
      "['None']"
     ]
    },
    {
     "name": "stdout",
     "output_type": "stream",
     "text": [
      "\n"
     ]
    },
    {
     "name": "stdout",
     "output_type": "stream",
     "text": [
      "7"
     ]
    },
    {
     "name": "stdout",
     "output_type": "stream",
     "text": [
      " "
     ]
    },
    {
     "name": "stdout",
     "output_type": "stream",
     "text": [
      "PR202_augustus_masked-Super-Scaffold_2412-processed-gene-1.53"
     ]
    },
    {
     "name": "stdout",
     "output_type": "stream",
     "text": [
      " "
     ]
    },
    {
     "name": "stdout",
     "output_type": "stream",
     "text": [
      "['b', 'xo', 'XP_004951897.1', 'sita:101776238']"
     ]
    },
    {
     "name": "stdout",
     "output_type": "stream",
     "text": [
      "\n"
     ]
    },
    {
     "name": "stdout",
     "output_type": "stream",
     "text": [
      "dict_keys(['K00284'])"
     ]
    },
    {
     "name": "stdout",
     "output_type": "stream",
     "text": [
      "\n"
     ]
    },
    {
     "name": "stdout",
     "output_type": "stream",
     "text": [
      "8"
     ]
    },
    {
     "name": "stdout",
     "output_type": "stream",
     "text": [
      " "
     ]
    },
    {
     "name": "stdout",
     "output_type": "stream",
     "text": [
      "PR202_augustus_masked-Super-Scaffold_16-processed-gene-2.242"
     ]
    },
    {
     "name": "stdout",
     "output_type": "stream",
     "text": [
      " "
     ]
    },
    {
     "name": "stdout",
     "output_type": "stream",
     "text": [
      "['b', 'good', 'XP_004958567.1', 'sita:101766581']"
     ]
    },
    {
     "name": "stdout",
     "output_type": "stream",
     "text": [
      "\n"
     ]
    },
    {
     "name": "stdout",
     "output_type": "stream",
     "text": [
      "['None']"
     ]
    },
    {
     "name": "stdout",
     "output_type": "stream",
     "text": [
      "\n"
     ]
    },
    {
     "name": "stdout",
     "output_type": "stream",
     "text": [
      "9"
     ]
    },
    {
     "name": "stdout",
     "output_type": "stream",
     "text": [
      " "
     ]
    },
    {
     "name": "stdout",
     "output_type": "stream",
     "text": [
      "PR202_augustus_masked-Super-Scaffold_25-processed-gene-1.229"
     ]
    },
    {
     "name": "stdout",
     "output_type": "stream",
     "text": [
      " "
     ]
    },
    {
     "name": "stdout",
     "output_type": "stream",
     "text": [
      "['a', 'xo', 'XP_004951497.1', 'sita:101785271']"
     ]
    },
    {
     "name": "stdout",
     "output_type": "stream",
     "text": [
      "\n"
     ]
    },
    {
     "name": "stdout",
     "output_type": "stream",
     "text": [
      "dict_keys(['K12879'])"
     ]
    },
    {
     "name": "stdout",
     "output_type": "stream",
     "text": [
      "\n"
     ]
    },
    {
     "name": "stdout",
     "output_type": "stream",
     "text": [
      "10"
     ]
    },
    {
     "name": "stdout",
     "output_type": "stream",
     "text": [
      " "
     ]
    },
    {
     "name": "stdout",
     "output_type": "stream",
     "text": [
      "PR202_maker-Super-Scaffold_2765-augustus-gene-0.31"
     ]
    },
    {
     "name": "stdout",
     "output_type": "stream",
     "text": [
      " "
     ]
    }
   ],
   "source": [
    "counter = 0\n",
    "for gene in annotated[0:10]:\n",
    "    counter += 1\n",
    "    call, conf, sita, kSita = ab_dict[gene]\n",
    "    keggObj = s.get(kSita)\n",
    "    keggParse = s.parse(keggObj)\n",
    "    ko = []\n",
    "    if 'ORTHOLOGY' in keggParse.keys():\n",
    "        ko = keggParse['ORTHOLOGY'].keys()\n",
    "    else:\n",
    "        ko = ['None']\n",
    "    print(ko)\n",
    "    print(counter,gene,ab_dict[gene])"
   ]
  },
  {
   "cell_type": "code",
   "execution_count": 31,
   "metadata": {},
   "outputs": [
    {
     "name": "stdout",
     "output_type": "stream",
     "text": [
      "None"
     ]
    },
    {
     "name": "stdout",
     "output_type": "stream",
     "text": [
      "\n"
     ]
    },
    {
     "name": "stdout",
     "output_type": "stream",
     "text": [
      "K04646"
     ]
    },
    {
     "name": "stdout",
     "output_type": "stream",
     "text": [
      "\n"
     ]
    },
    {
     "name": "stdout",
     "output_type": "stream",
     "text": [
      "K15192"
     ]
    },
    {
     "name": "stdout",
     "output_type": "stream",
     "text": [
      "\n"
     ]
    },
    {
     "name": "stdout",
     "output_type": "stream",
     "text": [
      "K18442"
     ]
    },
    {
     "name": "stdout",
     "output_type": "stream",
     "text": [
      "\n"
     ]
    },
    {
     "name": "stdout",
     "output_type": "stream",
     "text": [
      "K00284"
     ]
    },
    {
     "name": "stdout",
     "output_type": "stream",
     "text": [
      "\n"
     ]
    },
    {
     "name": "stdout",
     "output_type": "stream",
     "text": [
      "K16251"
     ]
    },
    {
     "name": "stdout",
     "output_type": "stream",
     "text": [
      "\n"
     ]
    },
    {
     "name": "stdout",
     "output_type": "stream",
     "text": [
      "None"
     ]
    },
    {
     "name": "stdout",
     "output_type": "stream",
     "text": [
      "\n"
     ]
    },
    {
     "name": "stdout",
     "output_type": "stream",
     "text": [
      "K00284"
     ]
    },
    {
     "name": "stdout",
     "output_type": "stream",
     "text": [
      "\n"
     ]
    },
    {
     "name": "stdout",
     "output_type": "stream",
     "text": [
      "None"
     ]
    },
    {
     "name": "stdout",
     "output_type": "stream",
     "text": [
      "\n"
     ]
    },
    {
     "name": "stdout",
     "output_type": "stream",
     "text": [
      "K12879"
     ]
    },
    {
     "name": "stdout",
     "output_type": "stream",
     "text": [
      "\n"
     ]
    }
   ],
   "source": [
    "counter = 0\n",
    "for gene in annotated[0:10]:\n",
    "    counter += 1\n",
    "    call, conf, sita, kSita = ab_dict[gene]\n",
    "    keggObj = s.get(kSita)\n",
    "    keggParse = s.parse(keggObj)\n",
    "    ko = []\n",
    "    if 'ORTHOLOGY' in keggParse.keys():\n",
    "        ko = list(keggParse['ORTHOLOGY'].keys())\n",
    "    else:\n",
    "        ko = ['None']\n",
    "    assert len(ko) == 1\n",
    "    print(ko[0])"
   ]
  },
  {
   "cell_type": "code",
   "execution_count": 33,
   "metadata": {},
   "outputs": [
    {
     "name": "stdout",
     "output_type": "stream",
     "text": [
      "Finshed:1000"
     ]
    },
    {
     "name": "stdout",
     "output_type": "stream",
     "text": [
      "\n"
     ]
    },
    {
     "name": "stdout",
     "output_type": "stream",
     "text": [
      "Finshed:2000"
     ]
    },
    {
     "name": "stdout",
     "output_type": "stream",
     "text": [
      "\n"
     ]
    },
    {
     "name": "stdout",
     "output_type": "stream",
     "text": [
      "Finshed:3000"
     ]
    },
    {
     "name": "stdout",
     "output_type": "stream",
     "text": [
      "\n"
     ]
    },
    {
     "name": "stdout",
     "output_type": "stream",
     "text": [
      "Finshed:4000"
     ]
    },
    {
     "name": "stdout",
     "output_type": "stream",
     "text": [
      "\n"
     ]
    },
    {
     "name": "stdout",
     "output_type": "stream",
     "text": [
      "Finshed:5000"
     ]
    },
    {
     "name": "stdout",
     "output_type": "stream",
     "text": [
      "\n"
     ]
    },
    {
     "name": "stdout",
     "output_type": "stream",
     "text": [
      "Finshed:6000"
     ]
    },
    {
     "name": "stdout",
     "output_type": "stream",
     "text": [
      "\n"
     ]
    },
    {
     "name": "stdout",
     "output_type": "stream",
     "text": [
      "Finshed:7000"
     ]
    },
    {
     "name": "stdout",
     "output_type": "stream",
     "text": [
      "\n"
     ]
    },
    {
     "name": "stdout",
     "output_type": "stream",
     "text": [
      "Finshed:8000"
     ]
    },
    {
     "name": "stdout",
     "output_type": "stream",
     "text": [
      "\n"
     ]
    },
    {
     "name": "stdout",
     "output_type": "stream",
     "text": [
      "Finshed:9000"
     ]
    },
    {
     "name": "stdout",
     "output_type": "stream",
     "text": [
      "\n"
     ]
    },
    {
     "name": "stdout",
     "output_type": "stream",
     "text": [
      "Finshed:10000"
     ]
    },
    {
     "name": "stdout",
     "output_type": "stream",
     "text": [
      "\n"
     ]
    },
    {
     "name": "stdout",
     "output_type": "stream",
     "text": [
      "Finshed:11000"
     ]
    },
    {
     "name": "stdout",
     "output_type": "stream",
     "text": [
      "\n"
     ]
    },
    {
     "name": "stdout",
     "output_type": "stream",
     "text": [
      "Finshed:12000"
     ]
    },
    {
     "name": "stdout",
     "output_type": "stream",
     "text": [
      "\n"
     ]
    },
    {
     "name": "stdout",
     "output_type": "stream",
     "text": [
      "Finshed:13000"
     ]
    },
    {
     "name": "stdout",
     "output_type": "stream",
     "text": [
      "\n"
     ]
    },
    {
     "name": "stdout",
     "output_type": "stream",
     "text": [
      "Finshed:14000"
     ]
    },
    {
     "name": "stdout",
     "output_type": "stream",
     "text": [
      "\n"
     ]
    },
    {
     "name": "stdout",
     "output_type": "stream",
     "text": [
      "Finshed:15000"
     ]
    },
    {
     "name": "stdout",
     "output_type": "stream",
     "text": [
      "\n"
     ]
    },
    {
     "name": "stdout",
     "output_type": "stream",
     "text": [
      "Finshed:16000"
     ]
    },
    {
     "name": "stdout",
     "output_type": "stream",
     "text": [
      "\n"
     ]
    },
    {
     "name": "stdout",
     "output_type": "stream",
     "text": [
      "Finshed:17000"
     ]
    },
    {
     "name": "stdout",
     "output_type": "stream",
     "text": [
      "\n"
     ]
    },
    {
     "name": "stdout",
     "output_type": "stream",
     "text": [
      "Finshed:18000"
     ]
    },
    {
     "name": "stdout",
     "output_type": "stream",
     "text": [
      "\n"
     ]
    },
    {
     "name": "stdout",
     "output_type": "stream",
     "text": [
      "Finshed:19000"
     ]
    },
    {
     "name": "stdout",
     "output_type": "stream",
     "text": [
      "\n"
     ]
    },
    {
     "name": "stdout",
     "output_type": "stream",
     "text": [
      "Finshed:20000"
     ]
    },
    {
     "name": "stdout",
     "output_type": "stream",
     "text": [
      "\n"
     ]
    },
    {
     "name": "stdout",
     "output_type": "stream",
     "text": [
      "Finshed:21000"
     ]
    },
    {
     "name": "stdout",
     "output_type": "stream",
     "text": [
      "\n"
     ]
    },
    {
     "name": "stdout",
     "output_type": "stream",
     "text": [
      "Finshed:22000"
     ]
    },
    {
     "name": "stdout",
     "output_type": "stream",
     "text": [
      "\n"
     ]
    },
    {
     "name": "stdout",
     "output_type": "stream",
     "text": [
      "Finshed:23000"
     ]
    },
    {
     "name": "stdout",
     "output_type": "stream",
     "text": [
      "\n"
     ]
    }
   ],
   "source": [
    "\n",
    "counter = 0 \n",
    "for gene in annotated:\n",
    "    counter += 1\n",
    "    if (len(ab_dict[gene])) == 4:  \n",
    "        call, conf, sita, kSita = ab_dict[gene]\n",
    "        keggObj = s.get(kSita)\n",
    "        keggParse = s.parse(keggObj)\n",
    "        ko = []\n",
    "        if 'ORTHOLOGY' in keggParse.keys():\n",
    "            ko = list(keggParse['ORTHOLOGY'].keys())\n",
    "        else:\n",
    "            ko = ['None']\n",
    "        assert len(ko) == 1,'{ko:{k}\\ngene:{g}'.format(ko=ko,g=gene)\n",
    "        ab_dict[gene].append(ko[0])\n",
    "    if (counter % 1000 ) == 0:\n",
    "        print('Finshed:{c}'.format(c=counter))"
   ]
  },
  {
   "cell_type": "code",
   "execution_count": 34,
   "metadata": {},
   "outputs": [
    {
     "name": "stdout",
     "output_type": "stream",
     "text": [
      "['a', 'xo', 'XP_022683105.1', 'sita:101754518', 'None']"
     ]
    },
    {
     "name": "stdout",
     "output_type": "stream",
     "text": [
      "\n"
     ]
    },
    {
     "name": "stdout",
     "output_type": "stream",
     "text": [
      "['b', 'xo', 'XP_004978593.1', 'sita:101782089', 'K04646']"
     ]
    },
    {
     "name": "stdout",
     "output_type": "stream",
     "text": [
      "\n"
     ]
    },
    {
     "name": "stdout",
     "output_type": "stream",
     "text": [
      "['b', 'xo', 'XP_004960996.1', 'sita:101756586', 'K15192']"
     ]
    },
    {
     "name": "stdout",
     "output_type": "stream",
     "text": [
      "\n"
     ]
    },
    {
     "name": "stdout",
     "output_type": "stream",
     "text": [
      "['a', 'good', 'XP_004985012.1', 'sita:101767857', 'K18442']"
     ]
    },
    {
     "name": "stdout",
     "output_type": "stream",
     "text": [
      "\n"
     ]
    },
    {
     "name": "stdout",
     "output_type": "stream",
     "text": [
      "['a', 'good', 'XP_004958567.1', 'sita:101766581', 'K00284']"
     ]
    },
    {
     "name": "stdout",
     "output_type": "stream",
     "text": [
      "\n"
     ]
    }
   ],
   "source": [
    "for gene in annotated[0:10]:\n",
    "    print(ab_dict[gene])"
   ]
  },
  {
   "cell_type": "markdown",
   "metadata": {},
   "source": [
    "* Save dictionary "
   ]
  },
  {
   "cell_type": "code",
   "execution_count": 37,
   "metadata": {},
   "outputs": [],
   "source": [
    "import pickle\n",
    "f = open('/home/ndh0004/Documents/keggPthCor/gene_dict.pckl','wb')\n",
    "pickle.dump(ab_dict,f)\n",
    "f.close()"
   ]
  }
 ],
 "metadata": {
  "kernelspec": {
   "display_name": "Python 2",
   "language": "python",
   "name": "python2"
  },
  "language_info": {
   "codemirror_mode": {
    "name": "ipython",
    "version": 2
   },
   "file_extension": ".py",
   "mimetype": "text/x-python",
   "name": "python",
   "nbconvert_exporter": "python",
   "pygments_lexer": "ipython2",
   "version": "2.7.6"
  }
 },
 "nbformat": 4,
 "nbformat_minor": 0
}
