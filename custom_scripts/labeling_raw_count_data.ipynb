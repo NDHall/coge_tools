{
 "cells": [
  {
   "cell_type": "markdown",
   "metadata": {
    "collapsed": true
   },
   "source": [
    "Now we need to label raw count data so that we can get both expression ABlinkage together in the same dataset. \n",
    " "
   ]
  },
  {
   "cell_type": "code",
   "execution_count": 1,
   "metadata": {},
   "outputs": [],
   "source": [
    "import pickle\n",
    "import pandas as pd \n"
   ]
  },
  {
   "cell_type": "code",
   "execution_count": 2,
   "metadata": {},
   "outputs": [],
   "source": [
    "f = open('/home/ndh0004/Documents/keggPthCor/gene_dictv2.pckl','rb')\n",
    "ab_dict = pickle.load(f)\n",
    "f.close()"
   ]
  },
  {
   "cell_type": "code",
   "execution_count": 4,
   "metadata": {},
   "outputs": [],
   "source": [
    "counts = '/home/ndh0004/Documents/cor_exp/raw_total_counts/gene.counts'\n",
    "df = pd.read_csv(counts,sep=\" \")"
   ]
  },
  {
   "cell_type": "code",
   "execution_count": 13,
   "metadata": {},
   "outputs": [
    {
     "data": {
      "text/plain": [
       "array(['contig', 'gene', '1kp_ERR2040786_counts', '1kp_ERR2040787_counts',\n       '1kp_ERR2040788_counts', '1kp_ERR2040789_counts',\n       'Bangalore_SRR2001609_counts', 'Bangalore_SRR2001830_counts',\n       'BGI_SRR5341138_counts', 'BGI_SRR5341139_counts',\n       'BGI_SRR5341140_counts', 'BGI_SRR5341141_counts',\n       'BGI_SRR5341142_counts', 'BGI_SRR5341143_counts',\n       'BGI_SRR5341144_counts', 'BGI_SRR5341145_counts',\n       'BGI_SRR5341146_counts', 'BGI_SRR5341147_counts',\n       'BGI_SRR5341148_counts', 'Hatakeyama_DRR095904_counts',\n       'Hatakeyama_DRR095905_counts', 'Hatakeyama_DRR095906_counts',\n       'Hatakeyama_DRR095907_counts', 'Hatakeyama_DRR095908_counts',\n       'Hatakeyama_DRR095909_counts', 'Hittalmani_SRR4021829_counts'],\n      dtype=object)"
      ]
     },
     "execution_count": 13,
     "metadata": {},
     "output_type": "execute_result"
    }
   ],
   "source": [
    "df.columns.values"
   ]
  },
  {
   "cell_type": "code",
   "execution_count": 29,
   "metadata": {},
   "outputs": [
    {
     "name": "stdout",
     "output_type": "stream",
     "text": [
      "1 PR202_augustus_masked-Super-Scaffold_1-processed-gene-0.10\n1 PR202_augustus_masked-Super-Scaffold_1-processed-gene-0.128\n1 PR202_augustus_masked-Super-Scaffold_1-processed-gene-0.131\n1 PR202_augustus_masked-Super-Scaffold_1-processed-gene-0.52\n1 PR202_augustus_masked-Super-Scaffold_1-processed-gene-1.19\n1 PR202_augustus_masked-Super-Scaffold_1-processed-gene-1.20\n1 PR202_augustus_masked-Super-Scaffold_1-processed-gene-1.33\n1 PR202_augustus_masked-Super-Scaffold_1-processed-gene-1.52\n1 PR202_augustus_masked-Super-Scaffold_1-processed-gene-1.55\n1 PR202_augustus_masked-Super-Scaffold_1-processed-gene-1.95\n1 PR202_augustus_masked-Super-Scaffold_1-processed-gene-1.96\n1 PR202_augustus_masked-Super-Scaffold_1-processed-gene-1.97\n1 PR202_augustus_masked-Super-Scaffold_10-processed-gene-0.442\n1 PR202_augustus_masked-Super-Scaffold_10-processed-gene-0.444\n['b', 'xo', 'XP_004965949.2', 'sita:101764737', 'None']\n1 PR202_augustus_masked-Super-Scaffold_10-processed-gene-0.445\n['b', 'xo', 'XP_004965949.2', 'sita:101764737', 'None']\n1 PR202_augustus_masked-Super-Scaffold_10-processed-gene-0.447\n['b', 'xo', 'XP_004966032.1', 'sita:101763790', 'None']\n1 PR202_augustus_masked-Super-Scaffold_10-processed-gene-0.451\n['b', 'xo', 'XP_022682880.1', 'sita:101766674', 'K01537']\n1 PR202_augustus_masked-Super-Scaffold_10-processed-gene-0.453\n['b', 'xo', 'XP_004967201.1', 'sita:101763801', 'None']\n1 PR202_augustus_masked-Super-Scaffold_10-processed-gene-0.454\n['b', 'xo', 'XP_004966215.1', 'sita:101768668', 'K20855']\n1 PR202_augustus_masked-Super-Scaffold_10-processed-gene-0.457\n"
     ]
    }
   ],
   "source": [
    "for index, row in df[:20].iterrows():\n",
    "    print(index, row[1])\n",
    "    gene_name = row[1].replace(':','_').replace('|','_')\n",
    "    if gene_name in ab_dict:\n",
    "        print(ab_dict[gene_name])"
   ]
  },
  {
   "cell_type": "code",
   "execution_count": null,
   "metadata": {},
   "outputs": [],
   "source": []
  }
 ],
 "metadata": {
  "kernelspec": {
   "display_name": "Python 2",
   "language": "python",
   "name": "python2"
  },
  "language_info": {
   "codemirror_mode": {
    "name": "ipython",
    "version": 2
   },
   "file_extension": ".py",
   "mimetype": "text/x-python",
   "name": "python",
   "nbconvert_exporter": "python",
   "pygments_lexer": "ipython2",
   "version": "2.7.6"
  }
 },
 "nbformat": 4,
 "nbformat_minor": 0
}
