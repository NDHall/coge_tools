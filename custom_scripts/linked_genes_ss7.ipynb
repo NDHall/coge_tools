{
 "cells": [
  {
   "cell_type": "code",
   "execution_count": 30,
   "metadata": {
    "collapsed": true
   },
   "outputs": [],
   "source": [
    "import pandas as pd\n",
    "df = pd.read_csv(\n",
    "    '/home/ndh0004/Documents/cor_exp/SS7/SS7_zero_lints.txt',\n",
    "    sep=' ',\n",
    "    #header=None\n",
    "                 )"
   ]
  },
  {
   "cell_type": "code",
   "execution_count": 31,
   "metadata": {},
   "outputs": [
    {
     "data": {
      "text/plain": [
       "array(['contig', 'gene', '1kp_ERR2040786_counts', '1kp_ERR2040787_counts',\n       '1kp_ERR2040788_counts', '1kp_ERR2040789_counts',\n       'Bangalore_SRR2001609_counts', 'Bangalore_SRR2001830_counts',\n       'BGI_SRR5341138_counts', 'BGI_SRR5341139_counts',\n       'BGI_SRR5341140_counts', 'BGI_SRR5341141_counts',\n       'BGI_SRR5341142_counts', 'BGI_SRR5341143_counts',\n       'BGI_SRR5341144_counts', 'BGI_SRR5341145_counts',\n       'BGI_SRR5341146_counts', 'BGI_SRR5341147_counts',\n       'BGI_SRR5341148_counts', 'Hatakeyama_DRR095904_counts',\n       'Hatakeyama_DRR095905_counts', 'Hatakeyama_DRR095906_counts',\n       'Hatakeyama_DRR095907_counts', 'Hatakeyama_DRR095908_counts',\n       'Hatakeyama_DRR095909_counts', 'Hittalmani_SRR4021829_counts',\n       'contig.1', 'gene.1', '1kp_ERR2040786_counts.1',\n       '1kp_ERR2040787_counts.1', '1kp_ERR2040788_counts.1',\n       '1kp_ERR2040789_counts.1', 'Bangalore_SRR2001609_counts.1',\n       'Bangalore_SRR2001830_counts.1', 'BGI_SRR5341138_counts.1',\n       'BGI_SRR5341139_counts.1', 'BGI_SRR5341140_counts.1',\n       'BGI_SRR5341141_counts.1', 'BGI_SRR5341142_counts.1',\n       'BGI_SRR5341143_counts.1', 'BGI_SRR5341144_counts.1',\n       'BGI_SRR5341145_counts.1', 'BGI_SRR5341146_counts.1',\n       'BGI_SRR5341147_counts.1', 'BGI_SRR5341148_counts.1',\n       'Hatakeyama_DRR095904_counts.1', 'Hatakeyama_DRR095905_counts.1',\n       'Hatakeyama_DRR095906_counts.1', 'Hatakeyama_DRR095907_counts.1',\n       'Hatakeyama_DRR095908_counts.1', 'Hatakeyama_DRR095909_counts.1',\n       'Hittalmani_SRR4021829_counts.1'], dtype=object)"
      ]
     },
     "execution_count": 31,
     "metadata": {},
     "output_type": "execute_result"
    }
   ],
   "source": [
    "df.columns.values\n"
   ]
  },
  {
   "cell_type": "code",
   "execution_count": 33,
   "metadata": {},
   "outputs": [
    {
     "data": {
      "text/plain": [
       "24"
      ]
     },
     "execution_count": 33,
     "metadata": {},
     "output_type": "execute_result"
    }
   ],
   "source": [
    "len(df) "
   ]
  },
  {
   "cell_type": "code",
   "execution_count": 34,
   "metadata": {},
   "outputs": [
    {
     "name": "stdout",
     "output_type": "stream",
     "text": [
      "              contig                                               gene  \\\n0   Super-Scaffold_7  PR202_augustus_masked-Super-Scaffold_7-process...   \n1   Super-Scaffold_7  PR202_augustus_masked-Super-Scaffold_7-process...   \n2   Super-Scaffold_7    PR202_maker-Super-Scaffold_7-augustus-gene-0.36   \n3   Super-Scaffold_7  PR202_augustus_masked-Super-Scaffold_7-process...   \n4   Super-Scaffold_7  PR202_augustus_masked-Super-Scaffold_7-process...   \n5   Super-Scaffold_7    PR202_maker-Super-Scaffold_7-augustus-gene-0.39   \n6   Super-Scaffold_7  PR202_augustus_masked-Super-Scaffold_7-process...   \n7   Super-Scaffold_7  PR202_augustus_masked-Super-Scaffold_7-process...   \n8   Super-Scaffold_7    PR202_maker-Super-Scaffold_7-augustus-gene-0.43   \n9   Super-Scaffold_7    PR202_maker-Super-Scaffold_7-augustus-gene-0.21   \n10  Super-Scaffold_7    PR202_maker-Super-Scaffold_7-augustus-gene-0.22   \n11  Super-Scaffold_7    PR202_maker-Super-Scaffold_7-augustus-gene-0.44   \n12  Super-Scaffold_7  PR202_augustus_masked-Super-Scaffold_7-process...   \n13  Super-Scaffold_7  PR202_augustus_masked-Super-Scaffold_7-process...   \n14  Super-Scaffold_7   PR202_maker-Super-Scaffold_7-augustus-gene-1.369   \n15  Super-Scaffold_7   PR202_maker-Super-Scaffold_7-augustus-gene-1.370   \n16  Super-Scaffold_7   PR202_maker-Super-Scaffold_7-augustus-gene-1.371   \n17  Super-Scaffold_7   PR202_maker-Super-Scaffold_7-augustus-gene-1.330   \n18  Super-Scaffold_7   PR202_maker-Super-Scaffold_7-augustus-gene-1.331   \n19  Super-Scaffold_7   PR202_maker-Super-Scaffold_7-augustus-gene-1.332   \n20  Super-Scaffold_7   PR202_maker-Super-Scaffold_7-augustus-gene-1.372   \n21  Super-Scaffold_7   PR202_maker-Super-Scaffold_7-augustus-gene-1.373   \n22  Super-Scaffold_7  PR202_augustus_masked-Super-Scaffold_7-process...   \n23  Super-Scaffold_7  PR202_maker-Super-Scaffold_7-augustus-gene-12.124   \n\n    1kp_ERR2040786_counts  1kp_ERR2040787_counts  1kp_ERR2040788_counts  \\\n0                       0                      0                      0   \n1                       0                      0                      0   \n2                       0                      0                      0   \n3                       0                      0                      0   \n4                       0                      0                      0   \n5                       0                      0                      0   \n6                       0                      0                      0   \n7                       0                      0                      0   \n8                       0                      0                      0   \n9                       0                      0                      0   \n10                      0                      0                      0   \n11                      0                      0                      0   \n12                      0                      0                      0   \n13                      0                      0                      0   \n14                      0                      0                      0   \n15                      0                      0                      0   \n16                      0                      0                      0   \n17                      0                      0                      0   \n18                      0                      0                      0   \n19                      0                      0                      0   \n20                      0                      0                      0   \n21                      0                      0                      0   \n22                      0                      0                      0   \n23                      0                      0                      0   \n\n    1kp_ERR2040789_counts  Bangalore_SRR2001609_counts  \\\n0                       0                            0   \n1                       0                            0   \n2                       0                            0   \n3                       0                            0   \n4                       0                            0   \n5                       0                            0   \n6                       0                            0   \n7                       0                            0   \n8                       0                            0   \n9                       0                            0   \n10                      0                            0   \n11                      0                            0   \n12                      0                            0   \n13                      0                            0   \n14                      0                            0   \n15                      0                            0   \n16                      0                            0   \n17                      0                            0   \n18                      0                            0   \n19                      0                            0   \n20                      0                            0   \n21                      0                            0   \n22                      0                            0   \n23                      0                            0   \n\n    Bangalore_SRR2001830_counts  BGI_SRR5341138_counts  BGI_SRR5341139_counts  \\\n0                             0                      0                      0   \n1                             0                      0                      0   \n2                             0                      0                      0   \n3                             0                      0                      0   \n4                             0                      0                      0   \n5                             0                      0                      0   \n6                             0                      0                      0   \n7                             0                      0                      0   \n8                             0                      0                      0   \n9                             0                      0                      0   \n10                            0                      0                      0   \n11                            0                      0                      0   \n12                            0                      0                      0   \n13                            0                      0                      0   \n14                            0                      0                      0   \n15                            0                      0                      0   \n16                            0                      0                      0   \n17                            0                      0                      0   \n18                            0                      0                      0   \n19                            0                      0                      0   \n20                            0                      0                      0   \n21                            0                      0                      0   \n22                            0                      0                      0   \n23                            0                      0                      0   \n\n                 ...                BGI_SRR5341146_counts.1  \\\n0                ...                                      0   \n1                ...                                      0   \n2                ...                                      2   \n3                ...                                     15   \n4                ...                                    106   \n5                ...                                      0   \n6                ...                                     36   \n7                ...                                      0   \n8                ...                                      2   \n9                ...                                      4   \n10               ...                                      2   \n11               ...                                      0   \n12               ...                                      1   \n13               ...                                     52   \n14               ...                                     11   \n15               ...                                      0   \n16               ...                                      9   \n17               ...                                      6   \n18               ...                                      0   \n19               ...                                     13   \n20               ...                                      0   \n21               ...                                      7   \n22               ...                                      3   \n23               ...                                      0   \n\n    BGI_SRR5341147_counts.1  BGI_SRR5341148_counts.1  \\\n0                         0                        0   \n1                         0                        0   \n2                         0                        2   \n3                         7                        5   \n4                        20                       32   \n5                         0                        0   \n6                         8                       13   \n7                         1                        0   \n8                         0                        2   \n9                         9                       10   \n10                        0                        1   \n11                        0                        0   \n12                        0                        0   \n13                       18                       16   \n14                        3                        6   \n15                        2                        1   \n16                        1                        2   \n17                        2                        4   \n18                        0                        0   \n19                        8                        6   \n20                        0                        1   \n21                       10                       12   \n22                       10                        2   \n23                        0                        0   \n\n    Hatakeyama_DRR095904_counts.1  Hatakeyama_DRR095905_counts.1  \\\n0                               0                              0   \n1                               0                              0   \n2                               0                              0   \n3                               0                              0   \n4                               0                              0   \n5                               0                              0   \n6                               0                              0   \n7                               0                              0   \n8                               0                              0   \n9                               0                              4   \n10                              0                              0   \n11                              0                              0   \n12                              0                              0   \n13                              0                              0   \n14                              0                              0   \n15                              0                              0   \n16                              0                              0   \n17                              0                              0   \n18                              0                              0   \n19                              0                              0   \n20                              0                              0   \n21                              0                              0   \n22                              0                              0   \n23                              0                              0   \n\n    Hatakeyama_DRR095906_counts.1  Hatakeyama_DRR095907_counts.1  \\\n0                               0                              0   \n1                               0                              0   \n2                               0                              0   \n3                               0                              2   \n4                               0                              2   \n5                               0                              0   \n6                               0                              0   \n7                               0                              0   \n8                               0                              0   \n9                               0                              0   \n10                              0                              0   \n11                              0                              0   \n12                              0                              0   \n13                              0                              6   \n14                              0                              2   \n15                              0                              0   \n16                              0                              0   \n17                              0                              0   \n18                              0                              0   \n19                              0                              2   \n20                              0                              0   \n21                              0                              6   \n22                              0                              0   \n23                              0                              0   \n\n    Hatakeyama_DRR095908_counts.1  Hatakeyama_DRR095909_counts.1  \\\n0                               0                              0   \n1                               0                              0   \n2                               0                              0   \n3                               0                              0   \n4                               0                              0   \n5                               0                              0   \n6                               0                              0   \n7                               0                              0   \n8                               0                              0   \n9                               0                              2   \n10                              0                              0   \n11                              0                              0   \n12                              0                              0   \n13                              2                              2   \n14                              0                              0   \n15                              0                              0   \n16                              0                              0   \n17                              0                              0   \n18                              0                              0   \n19                              0                              0   \n20                              0                              0   \n21                              0                              0   \n22                              0                              0   \n23                              0                              2   \n\n    Hittalmani_SRR4021829_counts.1  \n0                                0  \n1                                0  \n2                                0  \n3                                0  \n4                                0  \n5                                0  \n6                                0  \n7                                0  \n8                                0  \n9                                0  \n10                               0  \n11                               0  \n12                               0  \n13                               0  \n14                               0  \n15                               0  \n16                               0  \n17                               0  \n18                               0  \n19                               0  \n20                               0  \n21                               0  \n22                               0  \n23                               0  \n\n[24 rows x 52 columns]\n"
     ]
    }
   ],
   "source": [
    "print(df)\n"
   ]
  },
  {
   "cell_type": "code",
   "execution_count": 27,
   "metadata": {},
   "outputs": [],
   "source": [
    ""
   ]
  },
  {
   "cell_type": "code",
   "execution_count": 28,
   "metadata": {},
   "outputs": [
    {
     "data": {
      "text/plain": [
       "['2',\n '3',\n '4',\n '5',\n '6',\n '7',\n '8',\n '9',\n '10',\n '11',\n '12',\n '13',\n '14',\n '15',\n '16',\n '17',\n '18',\n '19',\n '20',\n '21',\n '22',\n '23',\n '24',\n '25']"
      ]
     },
     "execution_count": 28,
     "metadata": {},
     "output_type": "execute_result"
    }
   ],
   "source": [
    "x"
   ]
  },
  {
   "cell_type": "code",
   "execution_count": 40,
   "metadata": {},
   "outputs": [],
   "source": [
    "df['ss7_tot'] = df[2:26].sum(axis=0)"
   ]
  },
  {
   "cell_type": "code",
   "execution_count": 42,
   "metadata": {},
   "outputs": [
    {
     "data": {
      "text/plain": [
       "0     NaN\n1     NaN\n2     NaN\n3     NaN\n4     NaN\n5     NaN\n6     NaN\n7     NaN\n8     NaN\n9     NaN\n10    NaN\n11    NaN\n12    NaN\n13    NaN\n14    NaN\n15    NaN\n16    NaN\n17    NaN\n18    NaN\n19    NaN\n20    NaN\n21    NaN\n22    NaN\n23    NaN\nName: ss7_tot, dtype: object"
      ]
     },
     "execution_count": 42,
     "metadata": {},
     "output_type": "execute_result"
    }
   ],
   "source": [
    "df['ss7_tot']"
   ]
  },
  {
   "cell_type": "code",
   "execution_count": 42,
   "metadata": {},
   "outputs": [],
   "source": []
  },
  {
   "cell_type": "code",
   "execution_count": null,
   "metadata": {},
   "outputs": [],
   "source": []
  }
 ],
 "metadata": {
  "kernelspec": {
   "display_name": "Python 2",
   "language": "python",
   "name": "python2"
  },
  "language_info": {
   "codemirror_mode": {
    "name": "ipython",
    "version": 2
   },
   "file_extension": ".py",
   "mimetype": "text/x-python",
   "name": "python",
   "nbconvert_exporter": "python",
   "pygments_lexer": "ipython2",
   "version": "2.7.6"
  }
 },
 "nbformat": 4,
 "nbformat_minor": 0
}
