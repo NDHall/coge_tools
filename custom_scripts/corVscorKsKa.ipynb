{
 "cells": [
  {
   "cell_type": "markdown",
   "metadata": {
    "collapsed": true
   },
   "source": [
    "Visualization of corVsCor\n"
   ]
  },
  {
   "cell_type": "code",
   "execution_count": 1,
   "metadata": {},
   "outputs": [],
   "source": [
    "import pandas as pd\n"
   ]
  },
  {
   "cell_type": "code",
   "execution_count": 2,
   "metadata": {},
   "outputs": [],
   "source": [
    "df = pd.read_csv('/home/ndh0004/Documents/corKsKa/CorVsCorTotalNGML.tsv',\n",
    "                 sep='\\t'\n",
    "                )"
   ]
  },
  {
   "cell_type": "code",
   "execution_count": 3,
   "metadata": {},
   "outputs": [
    {
     "data": {
      "text/html": [
       "<div>\n",
       "<style scoped>\n",
       "    .dataframe tbody tr th:only-of-type {\n",
       "        vertical-align: middle;\n",
       "    }\n",
       "\n",
       "    .dataframe tbody tr th {\n",
       "        vertical-align: top;\n",
       "    }\n",
       "\n",
       "    .dataframe thead th {\n",
       "        text-align: right;\n",
       "    }\n",
       "</style>\n",
       "<table border=\"1\" class=\"dataframe\">\n",
       "  <thead>\n",
       "    <tr style=\"text-align: right;\">\n",
       "      <th></th>\n",
       "      <th>MLds</th>\n",
       "      <th>MLdn</th>\n",
       "      <th>NGds</th>\n",
       "      <th>NGdn</th>\n",
       "    </tr>\n",
       "  </thead>\n",
       "  <tbody>\n",
       "    <tr>\n",
       "      <th>count</th>\n",
       "      <td>31919.000000</td>\n",
       "      <td>31919.000000</td>\n",
       "      <td>31919.000000</td>\n",
       "      <td>31919.000000</td>\n",
       "    </tr>\n",
       "    <tr>\n",
       "      <th>mean</th>\n",
       "      <td>1.186389</td>\n",
       "      <td>0.143213</td>\n",
       "      <td>0.495449</td>\n",
       "      <td>0.148818</td>\n",
       "    </tr>\n",
       "    <tr>\n",
       "      <th>std</th>\n",
       "      <td>6.455522</td>\n",
       "      <td>0.195886</td>\n",
       "      <td>0.686858</td>\n",
       "      <td>0.204670</td>\n",
       "    </tr>\n",
       "    <tr>\n",
       "      <th>min</th>\n",
       "      <td>0.000000</td>\n",
       "      <td>0.000000</td>\n",
       "      <td>0.000000</td>\n",
       "      <td>0.000000</td>\n",
       "    </tr>\n",
       "    <tr>\n",
       "      <th>25%</th>\n",
       "      <td>0.058900</td>\n",
       "      <td>0.013900</td>\n",
       "      <td>0.065900</td>\n",
       "      <td>0.013700</td>\n",
       "    </tr>\n",
       "    <tr>\n",
       "      <th>50%</th>\n",
       "      <td>0.124800</td>\n",
       "      <td>0.041300</td>\n",
       "      <td>0.130600</td>\n",
       "      <td>0.041700</td>\n",
       "    </tr>\n",
       "    <tr>\n",
       "      <th>75%</th>\n",
       "      <td>0.747500</td>\n",
       "      <td>0.216750</td>\n",
       "      <td>0.741600</td>\n",
       "      <td>0.225550</td>\n",
       "    </tr>\n",
       "    <tr>\n",
       "      <th>max</th>\n",
       "      <td>70.627300</td>\n",
       "      <td>1.381900</td>\n",
       "      <td>6.410500</td>\n",
       "      <td>1.427400</td>\n",
       "    </tr>\n",
       "  </tbody>\n",
       "</table>\n",
       "</div>"
      ],
      "text/plain": [
       "<div>\n",
       "<style scoped>\n",
       "    .dataframe tbody tr th:only-of-type {\n",
       "        vertical-align: middle;\n",
       "    }\n",
       "\n",
       "    .dataframe tbody tr th {\n",
       "        vertical-align: top;\n",
       "    }\n",
       "\n",
       "    .dataframe thead th {\n",
       "        text-align: right;\n",
       "    }\n",
       "</style>\n",
       "<table border=\"1\" class=\"dataframe\">\n",
       "  <thead>\n",
       "    <tr style=\"text-align: right;\">\n",
       "      <th></th>\n",
       "      <th>MLds</th>\n",
       "      <th>MLdn</th>\n",
       "      <th>NGds</th>\n",
       "      <th>NGdn</th>\n",
       "    </tr>\n",
       "  </thead>\n",
       "  <tbody>\n",
       "    <tr>\n",
       "      <th>count</th>\n",
       "      <td>31919.000000</td>\n",
       "      <td>31919.000000</td>\n",
       "      <td>31919.000000</td>\n",
       "      <td>31919.000000</td>\n",
       "    </tr>\n",
       "    <tr>\n",
       "      <th>mean</th>\n",
       "      <td>1.186389</td>\n",
       "      <td>0.143213</td>\n",
       "      <td>0.495449</td>\n",
       "      <td>0.148818</td>\n",
       "    </tr>\n",
       "    <tr>\n",
       "      <th>std</th>\n",
       "      <td>6.455522</td>\n",
       "      <td>0.195886</td>\n",
       "      <td>0.686858</td>\n",
       "      <td>0.204670</td>\n",
       "    </tr>\n",
       "    <tr>\n",
       "      <th>min</th>\n",
       "      <td>0.000000</td>\n",
       "      <td>0.000000</td>\n",
       "      <td>0.000000</td>\n",
       "      <td>0.000000</td>\n",
       "    </tr>\n",
       "    <tr>\n",
       "      <th>25%</th>\n",
       "      <td>0.058900</td>\n",
       "      <td>0.013900</td>\n",
       "      <td>0.065900</td>\n",
       "      <td>0.013700</td>\n",
       "    </tr>\n",
       "    <tr>\n",
       "      <th>50%</th>\n",
       "      <td>0.124800</td>\n",
       "      <td>0.041300</td>\n",
       "      <td>0.130600</td>\n",
       "      <td>0.041700</td>\n",
       "    </tr>\n",
       "    <tr>\n",
       "      <th>75%</th>\n",
       "      <td>0.747500</td>\n",
       "      <td>0.216750</td>\n",
       "      <td>0.741600</td>\n",
       "      <td>0.225550</td>\n",
       "    </tr>\n",
       "    <tr>\n",
       "      <th>max</th>\n",
       "      <td>70.627300</td>\n",
       "      <td>1.381900</td>\n",
       "      <td>6.410500</td>\n",
       "      <td>1.427400</td>\n",
       "    </tr>\n",
       "  </tbody>\n",
       "</table>\n",
       "</div>"
      ]
     },
     "execution_count": 3,
     "metadata": {},
     "output_type": "execute_result"
    }
   ],
   "source": [
    "df.describe()\n"
   ]
  },
  {
   "cell_type": "code",
   "execution_count": 4,
   "metadata": {},
   "outputs": [
    {
     "data": {
      "text/plain": [
       "Index(['MLds', 'MLdn', 'NGds', 'NGdn', 'call0', 'scafType0', 'SitaProt0',\n       'SitaKegg0', 'KeggOrth0', 'seq0', 'call1', 'scafType1', 'SitaProt1',\n       'SitaKegg1', 'KeggOrth1', 'seq1', 'id'],\n      dtype='object')"
      ]
     },
     "execution_count": 4,
     "metadata": {},
     "output_type": "execute_result"
    }
   ],
   "source": [
    "df.columns"
   ]
  },
  {
   "cell_type": "code",
   "execution_count": 5,
   "metadata": {
    "collapsed": true
   },
   "outputs": [
    {
     "data": {
      "text/plain": [
       "array([[<matplotlib.axes._subplots.AxesSubplot object at 0x7f4f83daed30>]],\n      dtype=object)"
      ]
     },
     "execution_count": 5,
     "metadata": {},
     "output_type": "execute_result"
    }
   ],
   "source": [
    "df.hist(column='MLds',bins=600)\n",
    "\n"
   ]
  },
  {
   "cell_type": "code",
   "execution_count": 6,
   "metadata": {},
   "outputs": [],
   "source": [
    "import numpy as np \n",
    "df['logged'] = np.log10(df['MLds'] + 1e-4)"
   ]
  },
  {
   "cell_type": "code",
   "execution_count": 7,
   "metadata": {
    "collapsed": true
   },
   "outputs": [
    {
     "data": {
      "text/plain": [
       "array([[<matplotlib.axes._subplots.AxesSubplot object at 0x7f4f816b7dd8>]],\n      dtype=object)"
      ]
     },
     "execution_count": 7,
     "metadata": {},
     "output_type": "execute_result"
    },
    {
     "data": {
      "image/png": "[encoded data removed]",
      "text/plain": [
       "<Figure size 432x288 with 1 Axes>"
      ]
     },
     "metadata": {},
     "output_type": "display_data"
    }
   ],
   "source": [
    "\n",
    "df.hist(column='logged',bins=300,log=True)"
   ]
  },
  {
   "cell_type": "code",
   "execution_count": 8,
   "metadata": {},
   "outputs": [],
   "source": [
    "def callTot(c):\n",
    "    \"\"\"\n",
    "    \n",
    "    :param c: dataframe\n",
    "    :return: a call for each of the columns\n",
    "    \"\"\"\n",
    "    toRet = 'na'\n",
    "    if c['call0'] == 'a' and c['call1'] == 'a':\n",
    "        toRet = 'aa'\n",
    "    elif  c['call0'] == 'b' and c['call1'] == 'b':\n",
    "        toRet = 'bb'\n",
    "    elif ( c['call0'] == 'a' and c['call1'] == 'b' ) or \\\n",
    "        ( c['call0'] == 'b' and c['call1'] == 'a' ) :\n",
    "        toRet = 'ab'\n",
    "    return toRet"
   ]
  },
  {
   "cell_type": "code",
   "execution_count": 9,
   "metadata": {},
   "outputs": [
    {
     "data": {
      "text/plain": [
       "0      b\n1     na\n2     na\n3      b\n4     na\n5     na\n6     na\n7      a\n8     na\n9     na\n10     a\n11    na\n12     a\n13    na\n14    na\n15     b\n16     a\n17     a\n18    na\n19     a\nName: call0, dtype: object"
      ]
     },
     "execution_count": 9,
     "metadata": {},
     "output_type": "execute_result"
    }
   ],
   "source": [
    "df['call0'][0:20]"
   ]
  },
  {
   "cell_type": "code",
   "execution_count": 10,
   "metadata": {},
   "outputs": [],
   "source": [
    "df['called'] = df.apply(callTot, axis=1)"
   ]
  },
  {
   "cell_type": "code",
   "execution_count": 11,
   "metadata": {},
   "outputs": [],
   "source": [
    "\n",
    "df['called'].value_counts()"
   ]
  },
  {
   "cell_type": "code",
   "execution_count": 12,
   "metadata": {},
   "outputs": [],
   "source": [
    "op = '/home/ndh0004/code/coge_tools/custom_scripts/ref_data/photoSynthesis.list'\n",
    "f = open(op)\n",
    "oxphos = f.read().rstrip('\\n').split('\\n')\n",
    "f.close()\n",
    "\n",
    "def callPathWay(c):\n",
    "\n",
    "    \n",
    "    toRet = 'genbkdg'\n",
    "    if c['KeggOrth0']  in oxphos \\\n",
    "        or c['KeggOrth1'] in oxphos :\n",
    "        toRet = 'oxphos'\n",
    "    elif  c['KeggOrth0'] not in ['None','na'] and \\\n",
    "         c['KeggOrth1'] not in ['None','na']:\n",
    "        toRet = 'keggbkgd'\n",
    "        \n",
    "    return toRet\n"
   ]
  },
  {
   "cell_type": "code",
   "execution_count": 13,
   "metadata": {},
   "outputs": [],
   "source": [
    "df['pthway'] = df.apply(callPathWay, axis=1)"
   ]
  },
  {
   "cell_type": "code",
   "execution_count": 14,
   "metadata": {},
   "outputs": [],
   "source": [
    "\n",
    "def createPathwayGroup(c):\n",
    "    toRet = '{p}_{c}'.format(\n",
    "        p=c['pthway'],\n",
    "        c=c['called']\n",
    "    )\n",
    "    return toRet"
   ]
  },
  {
   "cell_type": "code",
   "execution_count": 15,
   "metadata": {},
   "outputs": [],
   "source": [
    "df['group'] = df.apply(createPathwayGroup, axis=1)"
   ]
  },
  {
   "cell_type": "code",
   "execution_count": 16,
   "metadata": {},
   "outputs": [],
   "source": [
    "import matplotlib.pyplot as plt\n",
    "import numpy as np"
   ]
  },
  {
   "cell_type": "code",
   "execution_count": 17,
   "metadata": {},
   "outputs": [],
   "source": [
    "groups = df.group.unique()"
   ]
  },
  {
   "cell_type": "code",
   "execution_count": 18,
   "metadata": {},
   "outputs": [],
   "source": [
    "groups\n"
   ]
  },
  {
   "cell_type": "code",
   "execution_count": 19,
   "metadata": {},
   "outputs": [],
   "source": [
    "subset = ['keggbkgd_ab','keggbkgd_aa', 'keggbkgd_bb',\n",
    "          'oxphos_ab', 'oxphos_aa', 'oxphos_na', 'oxphos_bb']"
   ]
  },
  {
   "cell_type": "code",
   "execution_count": 20,
   "metadata": {},
   "outputs": [],
   "source": [
    "df['logMLds'] = np.log10(df['MLds'] + 1e-4)"
   ]
  },
  {
   "cell_type": "code",
   "execution_count": 21,
   "metadata": {},
   "outputs": [
    {
     "data": {
      "text/plain": [
       "array([[<matplotlib.axes._subplots.AxesSubplot object at 0x7f4f814a15c0>,\n        <matplotlib.axes._subplots.AxesSubplot object at 0x7f4f81458048>],\n       [<matplotlib.axes._subplots.AxesSubplot object at 0x7f4f810fa6d8>,\n        <matplotlib.axes._subplots.AxesSubplot object at 0x7f4f80c18d68>]],\n      dtype=object)"
      ]
     },
     "execution_count": 21,
     "metadata": {},
     "output_type": "execute_result"
    },
    {
     "data": {
      "image/png": "[encoded data removed]",
      "text/plain": [
       "<Figure size 432x288 with 4 Axes>"
      ]
     },
     "metadata": {},
     "output_type": "display_data"
    }
   ],
   "source": [
    "df.hist(column='logMLds',\n",
    "        by='pthway',\n",
    "        bins=50)"
   ]
  },
  {
   "cell_type": "code",
   "execution_count": 22,
   "metadata": {
    "collapsed": false
   },
   "outputs": [
    {
     "data": {
      "image/png": "[encoded data removed]",
      "text/plain": [
       "<Figure size 432x288 with 1 Axes>"
      ]
     },
     "metadata": {},
     "output_type": "display_data"
    }
   ],
   "source": [
    "boxplot = df.boxplot(column='logMLds',\n",
    "                     by='called')\n"
   ]
  },
  {
   "cell_type": "code",
   "execution_count": 23,
   "metadata": {},
   "outputs": [
    {
     "data": {
      "image/png": "[encoded data removed]",
      "text/plain": [
       "<Figure size 432x288 with 1 Axes>"
      ]
     },
     "metadata": {},
     "output_type": "display_data"
    }
   ],
   "source": [
    "boxplot = df.boxplot(column='logMLds',\n",
    "                     by='pthway')"
   ]
  },
  {
   "cell_type": "code",
   "execution_count": 24,
   "metadata": {},
   "outputs": [
    {
     "data": {
      "text/plain": [
       "7"
      ]
     },
     "execution_count": 24,
     "metadata": {},
     "output_type": "execute_result"
    }
   ],
   "source": [
    "import seaborn as sns\n",
    "len(subset)"
   ]
  },
  {
   "cell_type": "code",
   "execution_count": 25,
   "metadata": {},
   "outputs": [
    {
     "name": "stdout",
     "output_type": "stream",
     "text": [
      "ab blue\naa violet\n"
     ]
    },
    {
     "name": "stdout",
     "output_type": "stream",
     "text": [
      "bb green\n"
     ]
    },
    {
     "data": {
      "image/png": "[encoded data removed]",
      "text/plain": [
       "<Figure size 432x288 with 1 Axes>"
      ]
     },
     "metadata": {},
     "output_type": "display_data"
    }
   ],
   "source": [
    "for x,col in zip( ['ab','aa','bb']  ,['blue','violet','green'] ):\n",
    "    ssdf = df.loc[(df.called == x) & ( df.logMLds >-2) ]\n",
    "    print(x,col)\n",
    "    if len(ssdf['logMLds']) >1 :\n",
    "        sns.distplot(ssdf['logMLds'],color=col,bins=200,rug=False, kde=False)\n"
   ]
  },
  {
   "cell_type": "code",
   "execution_count": 26,
   "metadata": {},
   "outputs": [],
   "source": [
    "oro = pd.read_csv('/home/ndh0004/Documents/corKsKa/clean_CorVsOroCall.tsv',\n",
    "                 sep=' ',\n",
    " #                 low_memory=False\n",
    "                )"
   ]
  },
  {
   "cell_type": "code",
   "execution_count": 27,
   "metadata": {},
   "outputs": [],
   "source": [
    "oro['nMLds'] = pd.to_numeric(oro['MLds'])\n"
   ]
  },
  {
   "cell_type": "code",
   "execution_count": 28,
   "metadata": {},
   "outputs": [
    {
     "data": {
      "text/plain": [
       "-0.9995659225206813"
      ]
     },
     "execution_count": 28,
     "metadata": {},
     "output_type": "execute_result"
    }
   ],
   "source": [
    "np.log10(0.1 + 1e-4)"
   ]
  },
  {
   "cell_type": "code",
   "execution_count": 29,
   "metadata": {},
   "outputs": [],
   "source": [
    "oro['logged'] = np.log10(oro['MLds']+ 1e-4)"
   ]
  },
  {
   "cell_type": "code",
   "execution_count": 30,
   "metadata": {},
   "outputs": [
    {
     "name": "stdout",
     "output_type": "stream",
     "text": [
      "ab blue\n"
     ]
    },
    {
     "name": "stdout",
     "output_type": "stream",
     "text": [
      "aa violet\n"
     ]
    },
    {
     "name": "stdout",
     "output_type": "stream",
     "text": [
      "bb green\n"
     ]
    },
    {
     "data": {
      "image/png": "[encoded data removed]",
      "text/plain": [
       "<Figure size 432x288 with 1 Axes>"
      ]
     },
     "metadata": {},
     "output_type": "display_data"
    }
   ],
   "source": [
    "sns.distplot(oro['logged'],color='gray',bins=200,rug=False, kde=True)\n",
    "for x,col in zip( ['ab','aa','bb']  ,['blue','violet','green'] ):\n",
    "    ssdf = df.loc[(df.called == x) & ( df.logMLds >-2) ]\n",
    "    print(x,col)\n",
    "    if len(ssdf['logMLds']) >1 :\n",
    "        sns.distplot(ssdf['logMLds'],color=col,bins=200,rug=False, kde=True)"
   ]
  },
  {
   "cell_type": "code",
   "execution_count": 31,
   "metadata": {},
   "outputs": [],
   "source": [
    "ind = pd.read_csv( \"/home/ndh0004/Documents/corKsKa/Ind30KVsCorTotalNGMLv2.clean\", sep=\" \")\n",
    "ind['logged'] = np.log10(ind['MLds'] + 1e-4)\n",
    "\n"
   ]
  },
  {
   "cell_type": "code",
   "execution_count": 32,
   "metadata": {},
   "outputs": [],
   "source": [
    "indClean = ind.loc[ind.logged > -4]"
   ]
  },
  {
   "cell_type": "code",
   "execution_count": 33,
   "metadata": {},
   "outputs": [
    {
     "name": "stdout",
     "output_type": "stream",
     "text": [
      "29378\n46163\n"
     ]
    }
   ],
   "source": [
    "print(len(indClean['logged']))\n",
    "print(len(oro['logged']))"
   ]
  },
  {
   "cell_type": "code",
   "execution_count": 115,
   "metadata": {},
   "outputs": [
    {
     "name": "stdout",
     "output_type": "stream",
     "text": [
      "ab blue\n"
     ]
    },
    {
     "name": "stdout",
     "output_type": "stream",
     "text": [
      "aa violet\nbb green\n"
     ]
    },
    {
     "data": {
      "image/png": "[encoded data removed]",
      "text/plain": [
       "<Figure size 432x288 with 1 Axes>"
      ]
     },
     "metadata": {},
     "output_type": "display_data"
    }
   ],
   "source": [
    "sns.distplot(indClean['logged'],color='black',bins=200,rug=False,kde=True)\n",
    "sns.distplot(oro['logged'],color='gray',bins=200,rug=False, kde=True)\n",
    "for x,col in zip( ['ab','aa','bb']  ,['blue','violet','green'] ):\n",
    "    ssdf = df.loc[(df.called == x) & ( df.logMLds >-2) ]\n",
    "    print(x,col)\n",
    "    if len(ssdf['logMLds']) >1 :\n",
    "        sns.distplot(ssdf['logMLds'],color=col,bins=200,rug=False, kde=True)"
   ]
  },
  {
   "cell_type": "code",
   "execution_count": 123,
   "metadata": {},
   "outputs": [
    {
     "name": "stdout",
     "output_type": "stream",
     "text": [
      "a black\nb darkblue\n"
     ]
    },
    {
     "data": {
      "image/png": "[encoded data removed]",
      "text/plain": [
       "<Figure size 432x288 with 1 Axes>"
      ]
     },
     "metadata": {},
     "output_type": "display_data"
    }
   ],
   "source": [
    "for x, col in zip(['a','b'],['black','darkblue'] ):\n",
    "    ssdf = indClean.loc[(indClean.call0 == x) & (indClean.logged > -3) ]\n",
    "    print(x,col)\n",
    "    if len(ssdf['logged']) >1 :\\\n",
    "         sns.distplot(ssdf['logged'],color=col,bins=200,rug=False, kde=False)"
   ]
  },
  {
   "cell_type": "code",
   "execution_count": 130,
   "metadata": {},
   "outputs": [
    {
     "name": "stdout",
     "output_type": "stream",
     "text": [
      "a black\n"
     ]
    },
    {
     "name": "stdout",
     "output_type": "stream",
     "text": [
      "b darkblue\n"
     ]
    },
    {
     "name": "stdout",
     "output_type": "stream",
     "text": [
      "aa violet\n"
     ]
    },
    {
     "name": "stdout",
     "output_type": "stream",
     "text": [
      "bb green\n"
     ]
    },
    {
     "data": {
      "image/png": "[encoded data removed]",
      "text/plain": [
       "<Figure size 432x288 with 1 Axes>"
      ]
     },
     "metadata": {},
     "output_type": "display_data"
    }
   ],
   "source": [
    "for x, col in zip(['a','b'],['black','darkblue'] ):\n",
    "    ssdf = indClean.loc[(indClean.call0 == x) & (indClean.logged > -3) ]\n",
    "    print(x,col)\n",
    "    if len(ssdf['logged']) >1 :\\\n",
    "         sns.distplot(ssdf['logged'],color=col,bins=200,rug=False, kde=True)\n",
    "for x,col in zip( ['aa','bb']  ,['violet','green'] ):\n",
    "    ssdf = df.loc[(df.called == x) & ( df.logMLds >-3) ]\n",
    "    print(x,col)\n",
    "    if len(ssdf['logMLds']) >1 :\n",
    "        sns.distplot(ssdf['logMLds'],color=col,bins=200,rug=False, kde=True)\n"
   ]
  },
  {
   "cell_type": "code",
   "execution_count": 36,
   "metadata": {},
   "outputs": [
    {
     "name": "stdout",
     "output_type": "stream",
     "text": [
      "a black\n"
     ]
    },
    {
     "name": "stdout",
     "output_type": "stream",
     "text": [
      "b darkblue\n"
     ]
    },
    {
     "name": "stdout",
     "output_type": "stream",
     "text": [
      "aa violet\n"
     ]
    },
    {
     "name": "stdout",
     "output_type": "stream",
     "text": [
      "bb green\nab skyblue\n"
     ]
    },
    {
     "data": {
      "image/png": "[encoded data removed]",
      "text/plain": [
       "<Figure size 234x144 with 1 Axes>"
      ]
     },
     "metadata": {},
     "output_type": "display_data"
    }
   ],
   "source": [
    "sns.set_style(\"dark\")\n",
    "plt.figure(figsize=(3.25 ,2.0))\n",
    "for x, col in zip(['a','b'],['black','darkblue'] ):\n",
    "    ssdf = indClean.loc[(indClean.call0 == x) & (indClean.logged > -3) ]\n",
    "    print(x,col)\n",
    "    if len(ssdf['logged']) >1 :\\\n",
    "         sns.distplot(ssdf['logged'],color=col,bins=200,rug=False, kde=False)\n",
    "for x,col in zip( ['aa','bb','ab']  ,['violet','green','skyblue'] ):\n",
    "    ssdf = df.loc[(df.called == x) & ( df.logMLds >-3) ]\n",
    "    print(x,col)\n",
    "    if len(ssdf['logMLds']) >1 :\n",
    "        sns.distplot(ssdf['logMLds'],color=col,bins=200,rug=False, kde=False)\n",
    "plt.savefig(\"/home/ndh0004/Documents/corKsKa/ksKa_abiv3.svg\", format=\"svg\")"
   ]
  },
  {
   "cell_type": "code",
   "execution_count": 62,
   "metadata": {},
   "outputs": [
    {
     "name": "stdout",
     "output_type": "stream",
     "text": [
      "a black\nb darkblue\n"
     ]
    },
    {
     "name": "stdout",
     "output_type": "stream",
     "text": [
      "aa violet\nbb red\nab skyblue\n"
     ]
    },
    {
     "data": {
      "image/png": "[encoded data removed]",
      "text/plain": [
       "<Figure size 234x288 with 3 Axes>"
      ]
     },
     "metadata": {},
     "output_type": "display_data"
    }
   ],
   "source": [
    "sns.set_style(\"white\")\n",
    "plt.figure(figsize=(3.25 ,4.0))\n",
    "\n",
    "ax1 = plt.subplot(311)\n",
    "for x, col in zip(['a','b'],['black','darkblue'] ):\n",
    "    ssdf = indClean.loc[(indClean.call0 == x) & (indClean.logged > -3) ]\n",
    "    print(x,col)\n",
    "    if len(ssdf['logged']) >1 :\\\n",
    "         sns.distplot(ssdf['logged'],color=col,bins=200,rug=False, kde=True,\n",
    "                                             hist_kws={\"histtype\":'stepfilled' , \"linewidth\": 1,\n",
    "                             \"alpha\": 1.0, \"color\": col})\n",
    "sns.distplot(oro['logged'],color='brown',bins=200,rug=False, kde=True                      , hist_kws={\"histtype\":'stepfilled' , \"linewidth\": 1,\n",
    "                             \"alpha\": 1.0, \"color\": 'brown'})\n",
    "\n",
    "\n",
    "plt.subplot(313,sharex=ax1, sharey=ax1)\n",
    "\n",
    "\"\"\"\n",
    "for x, col in zip(['a','b'],['black','darkblue'] ):\n",
    "    ssdf = indClean.loc[(indClean.call0 == x) & (indClean.logged > -3) ]\n",
    "    print(x,col)\n",
    "    if len(ssdf['logged']) >1 :\\\n",
    "         sns.distplot(ssdf['logged'],color=col,bins=200,rug=False\n",
    "                      , kde=True\n",
    "                      , hist_kws={\"histtype\":'stepfilled' , \"linewidth\": 1,\n",
    "                             \"alpha\": 1.0, \"color\": col}\n",
    "                      )\n",
    "\"\"\"\n",
    "for x,col in zip( ['aa','bb']  ,['violet','red'] ):\n",
    "    ssdf = df.loc[(df.called == x) & ( df.logMLds >-3) ]\n",
    "    print(x,col)\n",
    "    if len(ssdf['logMLds']) >1 :\n",
    "        sns.distplot(ssdf['logMLds'],color=col,bins=200,rug=False\n",
    "                     , kde=True\n",
    "                     ,hist_kws={\"histtype\":'stepfilled' , \"linewidth\": 1,\n",
    "                             \"alpha\": 1.0, \"color\": col}\n",
    "                     )\n",
    "plt.subplot(312,sharex=ax1, sharey=ax1)\n",
    "\n",
    "for x,col in zip( ['ab']  ,['skyblue'] ):\n",
    "    ssdf = df.loc[(df.called == x) & ( df.logMLds >-3) ]\n",
    "    print(x,col)\n",
    "    if len(ssdf['logMLds']) >1 :\n",
    "        sns.distplot(ssdf['logMLds'],color=col,bins=200,rug=False\n",
    "                     , kde=True\n",
    "                     ,hist_kws={\"histtype\":'stepfilled' , \"linewidth\": 1,\n",
    "                             \"alpha\": 1.0, \"color\": col}\n",
    "                     )\n",
    "\n",
    "\n",
    "plt.savefig(\"/home/ndh0004/Documents/corKsKa/ksKa_ciov1.svg\", format=\"svg\")"
   ]
  },
  {
   "cell_type": "code",
   "execution_count": 48,
   "metadata": {},
   "outputs": [],
   "source": [
    "\n"
   ]
  },
  {
   "cell_type": "code",
   "execution_count": null,
   "metadata": {},
   "outputs": [],
   "source": []
  }
 ],
 "metadata": {
  "kernelspec": {
   "display_name": "Python 2",
   "language": "python",
   "name": "python2"
  },
  "language_info": {
   "codemirror_mode": {
    "name": "ipython",
    "version": 2
   },
   "file_extension": ".py",
   "mimetype": "text/x-python",
   "name": "python",
   "nbconvert_exporter": "python",
   "pygments_lexer": "ipython2",
   "version": "2.7.6"
  }
 },
 "nbformat": 4,
 "nbformat_minor": 0
}
