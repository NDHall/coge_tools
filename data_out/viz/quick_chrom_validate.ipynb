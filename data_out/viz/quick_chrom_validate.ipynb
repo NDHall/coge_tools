{
 "cells": [
  {
   "cell_type": "code",
   "execution_count": 6,
   "metadata": {
    "collapsed": true
   },
   "outputs": [
    {
     "name": "stdout",
     "output_type": "stream",
     "text": [
      "0    AB\n1     B\n2     B\n3     B\n4    AB\nName: #call, dtype: object\n"
     ]
    }
   ],
   "source": [
    "import pandas as pd\n",
    "infile='/home/ndh0004/code/coge_tools/data_out/bog_sep28_qaccalled_chrom_calls_all.tsv'\n",
    "df = pd.read_table(infile,header=0)\n",
    "print(df['#call'].head())  \n"
   ]
  },
  {
   "cell_type": "code",
   "execution_count": 12,
   "metadata": {},
   "outputs": [],
   "source": [
    "a_calls = df.loc[df['#call'] == 'A']\n",
    "b_calls = df.loc[df['#call'] == 'B']\n",
    "ab_calls = df.loc[df['#call'] == 'AB']"
   ]
  },
  {
   "cell_type": "code",
   "execution_count": null,
   "metadata": {},
   "outputs": [],
   "source": [
    "passin_A = df.loc[df]"
   ]
  }
 ],
 "metadata": {
  "kernelspec": {
   "display_name": "Python 2",
   "language": "python",
   "name": "python2"
  },
  "language_info": {
   "codemirror_mode": {
    "name": "ipython",
    "version": 2
   },
   "file_extension": ".py",
   "mimetype": "text/x-python",
   "name": "python",
   "nbconvert_exporter": "python",
   "pygments_lexer": "ipython2",
   "version": "2.7.6"
  }
 },
 "nbformat": 4,
 "nbformat_minor": 0
}
