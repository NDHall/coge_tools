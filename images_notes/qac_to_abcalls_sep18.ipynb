{
 "cells": [
  {
   "cell_type": "code",
   "execution_count": 21,
   "metadata": {
    "collapsed": true
   },
   "outputs": [],
   "source": [
    "import pandas as pd\n",
    "import numpy as np\n",
    "import matplotlib.pyplot as plt\n",
    "df_tot = pd.read_csv('/home/ndh0004/code/coge_tools/test_out/bog_sep18_qac_bag_of_genes.tsv',sep=\"\\t\",header=None)\n",
    "df_ab = pd.read_csv('/home/ndh0004/code/coge_tools/test_out/bog_sep18_qac_abcalls.tsv', sep=\"\\t\",header=None)\n",
    "df_tot.columns = [\n",
    "\"call\",\n",
    "\"pgene\",\n",
    "\"ctregion_chrom\",\n",
    "\"ctregion_start\",\n",
    "\"ctregion_stop\",\n",
    "\"ptregion_chrom\",\n",
    "\"ptregion_start\",\n",
    "\"ptregion_stop\",\n",
    "\"perid\",\n",
    "\"meanperid\",\n",
    "\"ks\",\n",
    "\"meanks\",\n",
    "\"cgene\",\n",
    "\"cgregion_chrom\",\n",
    "\"cgregion_start\",\n",
    "\"cgregion_stop\",\n",
    "\"pgregion_chrom\",\n",
    "\"pgregion_start\",\n",
    "\"pgregion_stop\",\n",
    "\"ka\",\n",
    "\"meanka\",\n",
    "\"perid_len\",\n",
    "\"ka_len\",\n",
    "\"ks_len\",\n",
    "\"syn_len\"]\n",
    "\n",
    "df_ab.columns = [\"region\",\"pid\",\"call\",\"gene\"]\n"
   ]
  },
  {
   "cell_type": "markdown",
   "metadata": {},
   "source": [
    "Lets take a look at the number of times a gene is reported using ac"
   ]
  },
  {
   "cell_type": "code",
   "execution_count": 22,
   "metadata": {},
   "outputs": [
    {
     "name": "stdout",
     "output_type": "stream",
     "text": [
      "g16018    4\ng10730    4\ng95       4\ng1363     4\ng1390     4\ng1391     4\ng6195     4\ng4322     4\ng37176    4\ng1359     4\ng3708     4\ng3693     4\ng13365    4\ng1387     4\ng1059     4\ng1388     4\ng3418     4\ng3681     4\ng1386     4\ng1389     4\ng1381     4\ng1360     4\ng3719     4\ng1380     4\ng1384     4\ng14000    3\ng3024     3\ng13981    3\ng17264    3\ng118      3\n         ..\ng4826     1\ng43336    1\ng1518     1\ng6137     1\ng11860    1\ng28725    1\ng33461    1\ng32326    1\ng5297     1\ng42251    1\ng41257    1\ng34761    1\ng19363    1\ng1691     1\ng28770    1\ng1806     1\ng6145     1\ng34389    1\ng17483    1\ng44900    1\ng43978    1\ng3192     1\ng10390    1\ng14874    1\ng31446    1\ng34254    1\ng3185     1\ng13879    1\ng12707    1\ng24432    1\nName: pgene, Length: 10653, dtype: int64\n"
     ]
    }
   ],
   "source": [
    "print(df_tot['pgene'].value_counts())"
   ]
  },
  {
   "cell_type": "markdown",
   "metadata": {},
   "source": [
    "We see there is a little overlap for the whole file but not much. "
   ]
  },
  {
   "cell_type": "code",
   "execution_count": 23,
   "metadata": {},
   "outputs": [
    {
     "data": {
      "text/plain": [
       "<matplotlib.axes._subplots.AxesSubplot at 0x7f6c7f75ff60>"
      ]
     },
     "execution_count": 23,
     "metadata": {},
     "output_type": "execute_result"
    },
    {
     "data": {
      "image/png": "[encoded data removed]",
      "text/plain": [
       "<Figure size 432x288 with 1 Axes>"
      ]
     },
     "metadata": {},
     "output_type": "display_data"
    }
   ],
   "source": [
    "df_tot['pgene'].value_counts().hist(grid=False,\n",
    "                                    bins=[1,2,3,4])\n"
   ]
  },
  {
   "cell_type": "code",
   "execution_count": 24,
   "metadata": {},
   "outputs": [
    {
     "name": "stdout",
     "output_type": "stream",
     "text": [
      "total: 17397\ngenes >= 90.0: 16518\ngenes in syntenic blocks wheren meand perid >=90: 17081\n"
     ]
    }
   ],
   "source": [
    "print('total:', len(df_tot['pgene']))\n",
    "print('genes >= 90.0:',len(df_tot.loc[df_tot['perid'] >=90.0]))\n",
    "print('genes in syntenic blocks wheren meand perid >=90:',len(df_tot.loc[df_tot['meanperid'] >= 90.0]))"
   ]
  },
  {
   "cell_type": "markdown",
   "metadata": {},
   "source": [
    "```ndh0004@IorekByrnison:~/code/coge_tools/test_out$ wc -l bog_sep18_qac_abcalls.tsv \n",
    "12796 bog_sep18_qac_abcalls.tsv\n",
    "ndh0004@IorekByrnislon:~/code/coge_tools/test_out$ wc -l bog_sep18_qac*_abcalls.tsv ```"
   ]
  },
  {
   "cell_type": "code",
   "execution_count": null,
   "metadata": {},
   "outputs": [],
   "source": []
  }
 ],
 "metadata": {
  "kernelspec": {
   "display_name": "Python 2",
   "language": "python",
   "name": "python2"
  },
  "language_info": {
   "codemirror_mode": {
    "name": "ipython",
    "version": 2
   },
   "file_extension": ".py",
   "mimetype": "text/x-python",
   "name": "python",
   "nbconvert_exporter": "python",
   "pygments_lexer": "ipython2",
   "version": "2.7.6"
  }
 },
 "nbformat": 4,
 "nbformat_minor": 0
}
